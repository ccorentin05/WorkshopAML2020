{
 "cells": [
  {
   "cell_type": "markdown",
   "metadata": {},
   "source": [
    "# Deep Learning"
   ]
  },
  {
   "cell_type": "markdown",
   "metadata": {},
   "source": [
    "<img src='https://github.com/retkowsky/images/blob/master/AzureMLservicebanniere.png?raw=true'>"
   ]
  },
  {
   "cell_type": "markdown",
   "metadata": {},
   "source": [
    "https://en.wikipedia.org/wiki/MNIST_database\n",
    "\n",
    "Exemple **MNIST** (Modified National Institute of Standards and Technology.<br>\n",
    "Pour représenter cette image, nous allons utiliser un vecteur binaire de **784 variables (28x28)**. La ième valeur du vecteur prendra la valeur 0 ou 1 suivant si le ième pixel dans l'image est blanc ou noir.\n",
    "\n",
    "Un algorithme de **Deep Learning** va commencer par subdiviser ce problème complexe, en sous problèmes plus simple à résoudre. Pour cela, il va prendre des sous parties de l'image, par exemple, des groupements de pixels de 5x5, 4x4, ou 3x3, et opérer une fonction afin d'extraire des motifs dans cette sous-partie (on parle d'opération de convolution).\n",
    "Ainsi, différentes transformations sont opérées sur différentes parties de l'image d'entrée, retravaillées puis combinées à la couche suivante, etc., etc. permettant ainsi de générer des cartographies des pixels importants dans l'image.<br>\n"
   ]
  },
  {
   "cell_type": "markdown",
   "metadata": {},
   "source": [
    "<img src=\"https://upload.wikimedia.org/wikipedia/commons/2/27/MnistExamples.png\">"
   ]
  },
  {
   "cell_type": "markdown",
   "metadata": {},
   "source": [
    "<img src=\"https://msdnshared.blob.core.windows.net/media/2016/04/042816_1315_Unepremirei32.png\">"
   ]
  },
  {
   "cell_type": "markdown",
   "metadata": {},
   "source": [
    "L'illustration ci-dessus met en évidence la succession des couches, et l'extraction de l'information qu'elles réalisent. Elle permet aussi de refléter la hiérarchie entre les couches :\n",
    "\n",
    "La première se focalise sur une petite portion de l'image (5x5 par exemple).\n",
    "La seconde récupère le résultat de toutes les portions précédentes et essaye de repérer de nouveaux indicateurs.\n",
    "La troisième va encore plus loin, en suivant le même principe, permettant d'identifier assez précisément les contours du visage.\n",
    "Vous l'aurez donc compris, chaque couche est génératrice de variables. Chaque couche va venir rajouter son lot de variable issues de la combinaison des précédentes. C'est ici qu'intervient la véritable différence entre un réseau de neurones « classique » et un algorithme de Deep Learning.\n",
    "\n",
    "Cette faculté à générer des variables, qui plus est, très pertinentes dans un problème donné, permet à l'algorithme de découvrir des indicateurs de « haut niveaux » générant un fort pouvoir prédictif.\n",
    "\n",
    "En combinant toutes ces informations issues des différentes couches, correctement pondérées, nous obtenons un système capable d'identifier les éléments importants d'une image, dans le but final de prédire la sortie avec la plus forte probabilité d'être correcte."
   ]
  },
  {
   "cell_type": "markdown",
   "metadata": {},
   "source": [
    "## Partitionnement des données\n",
    "On va utiliser une partie des données pour apprendre (60 000) et le reste (10 000) pour vérifier si notre algorithme est correct. <br>Nous utilisons KERAS qui est une surcouche à TensorFlow."
   ]
  },
  {
   "cell_type": "code",
   "execution_count": 1,
   "metadata": {},
   "outputs": [
    {
     "data": {
      "text/plain": [
       "'3.6.9 |Anaconda, Inc.| (default, Jul 30 2019, 19:07:31) \\n[GCC 7.3.0]'"
      ]
     },
     "execution_count": 1,
     "metadata": {},
     "output_type": "execute_result"
    }
   ],
   "source": [
    "import sys\n",
    "sys.version"
   ]
  },
  {
   "cell_type": "code",
   "execution_count": 2,
   "metadata": {},
   "outputs": [
    {
     "name": "stderr",
     "output_type": "stream",
     "text": [
      "Using TensorFlow backend.\n"
     ]
    }
   ],
   "source": [
    "%matplotlib inline\n",
    "import matplotlib.pyplot as plt\n",
    "import numpy as np\n",
    "from keras.datasets import mnist\n",
    "from keras.models import Sequential\n",
    "from keras.layers.core import Dense, Activation\n",
    "from keras.optimizers import SGD\n",
    "from keras.utils import np_utils"
   ]
  },
  {
   "cell_type": "code",
   "execution_count": 3,
   "metadata": {},
   "outputs": [
    {
     "name": "stdout",
     "output_type": "stream",
     "text": [
      "Downloading data from https://s3.amazonaws.com/img-datasets/mnist.npz\n",
      "11493376/11490434 [==============================] - 1s 0us/step\n",
      "1. Training : 60000\n",
      "2. Test : 10000\n"
     ]
    }
   ],
   "source": [
    "nb_classes = 10 # On doit reconnaitre 10 chiffres différents\n",
    "\n",
    "# Affichage du nombre de lignes\n",
    "(training_images, training_labels), (test_images, test_labels) = mnist.load_data()\n",
    "print ('1. Training :', training_images.shape[0])\n",
    "print ('2. Test :', test_images.shape[0])"
   ]
  },
  {
   "cell_type": "markdown",
   "metadata": {},
   "source": [
    "## Visualisation"
   ]
  },
  {
   "cell_type": "code",
   "execution_count": 4,
   "metadata": {},
   "outputs": [
    {
     "data": {
      "image/png": "[encoded data removed]",
      "text/plain": [
       "<Figure size 432x288 with 8 Axes>"
      ]
     },
     "metadata": {
      "needs_background": "light"
     },
     "output_type": "display_data"
    }
   ],
   "source": [
    "for i in range(8):\n",
    "    plt.subplot(2,4,i+1)\n",
    "    plt.imshow(training_images[i], cmap='gray', interpolation='none')\n",
    "    plt.title(\"Chiffre : {}\".format(training_labels[i]))"
   ]
  },
  {
   "cell_type": "markdown",
   "metadata": {},
   "source": [
    "## Traitement\n",
    "Les images sont représentées par 28 pixels sur 28 pixels.\n",
    "Nous allons donc générer un réseau de 784 neurones (28 X 28).\n",
    "En sortie nous voulons 10 neurones (= les 10 chiffres de 0 à 9).\n",
    "\n",
    "Nous allons convertir les images qui sont sous forme de tableaux 28 par 28 en un vecteur de longueur 784.\n",
    "Nous allons diviser les valeurs par 255 pour que notre vecteur ne contienne que des données entre 0 et 1.<br>\n",
    "Au final nous allons convertir les classes de chiffres en catégories."
   ]
  },
  {
   "cell_type": "code",
   "execution_count": 5,
   "metadata": {},
   "outputs": [],
   "source": [
    "training_images = training_images.reshape(60000, 784)\n",
    "test_images = test_images.reshape(10000, 784)\n",
    "training_images = training_images.astype('float32')\n",
    "test_images = test_images.astype('float32')\n",
    "training_images /= 255\n",
    "test_images /= 255\n",
    "\n",
    "training_labels_categories = np_utils.to_categorical(training_labels, nb_classes)\n",
    "test_labels_categories = np_utils.to_categorical(test_labels, nb_classes)"
   ]
  },
  {
   "cell_type": "markdown",
   "metadata": {},
   "source": [
    "## Estimation\n",
    "Nous allons estimer un réseau avec une première couche de 500 neurones et une couche de sortie de 10 neurones.<br>\n",
    "Autres paramétres :\n",
    "- Fonction d’optimisation : SGD (Stochastique Gradient Descent) et « vitesse d’apprentissage » 0.5\n",
    "- Taille du batch : 500 (nombre d’images utilisées pour entrainer le réseau)\n",
    "- Nombre d’epoch : 1 (un epoch = un apprentissage sur toutes les données)\n"
   ]
  },
  {
   "cell_type": "code",
   "execution_count": 6,
   "metadata": {},
   "outputs": [
    {
     "name": "stdout",
     "output_type": "stream",
     "text": [
      "Train on 60000 samples, validate on 10000 samples\n",
      "Epoch 1/1\n",
      "60000/60000 [==============================] - 2s 39us/step - loss: 0.5086 - accuracy: 0.8469 - val_loss: 0.2662 - val_accuracy: 0.9231\n",
      "\n",
      "==> Accuracy sur la base de Test : 0.9230999946594238\n",
      "\n",
      "CPU times: user 1.76 s, sys: 116 ms, total: 1.88 s\n",
      "Wall time: 4.18 s\n"
     ]
    }
   ],
   "source": [
    "%%time\n",
    "model = Sequential()\n",
    "model.add(Dense(100, input_shape=(784,)))\n",
    "model.add(Activation('relu'))\n",
    "model.add(Dense(10))\n",
    "model.add(Activation('softmax'))\n",
    "\n",
    "model.compile(loss='categorical_crossentropy', optimizer=SGD(0.5), metrics=['accuracy'])\n",
    "\n",
    "history = model.fit(training_images, training_labels_categories, batch_size=500, epochs=1,\n",
    "                    verbose=1, validation_data=(test_images, test_labels_categories))\n",
    "score = model.evaluate(test_images, test_labels_categories, verbose=0)\n",
    "print()\n",
    "print('==> Accuracy sur la base de Test :', score[1])\n",
    "print()"
   ]
  },
  {
   "cell_type": "markdown",
   "metadata": {},
   "source": [
    "## Nouveau modèle :"
   ]
  },
  {
   "cell_type": "code",
   "execution_count": 7,
   "metadata": {},
   "outputs": [
    {
     "name": "stdout",
     "output_type": "stream",
     "text": [
      "Train on 60000 samples, validate on 10000 samples\n",
      "Epoch 1/20\n",
      "60000/60000 [==============================] - 4s 67us/step - loss: 0.5368 - accuracy: 0.8439 - val_loss: 0.2794 - val_accuracy: 0.9240\n",
      "Epoch 2/20\n",
      "60000/60000 [==============================] - 5s 86us/step - loss: 0.2434 - accuracy: 0.9320 - val_loss: 0.2057 - val_accuracy: 0.9420\n",
      "Epoch 3/20\n",
      "60000/60000 [==============================] - 5s 79us/step - loss: 0.1934 - accuracy: 0.9461 - val_loss: 0.1727 - val_accuracy: 0.9510\n",
      "Epoch 4/20\n",
      "60000/60000 [==============================] - 4s 73us/step - loss: 0.1619 - accuracy: 0.9545 - val_loss: 0.1459 - val_accuracy: 0.9585\n",
      "Epoch 5/20\n",
      "60000/60000 [==============================] - 5s 82us/step - loss: 0.1402 - accuracy: 0.9608 - val_loss: 0.1330 - val_accuracy: 0.9627\n",
      "Epoch 6/20\n",
      "60000/60000 [==============================] - 6s 107us/step - loss: 0.1239 - accuracy: 0.9657 - val_loss: 0.1217 - val_accuracy: 0.9645\n",
      "Epoch 7/20\n",
      "60000/60000 [==============================] - 6s 93us/step - loss: 0.1111 - accuracy: 0.9696 - val_loss: 0.1130 - val_accuracy: 0.9670\n",
      "Epoch 8/20\n",
      "60000/60000 [==============================] - 4s 66us/step - loss: 0.1001 - accuracy: 0.9728 - val_loss: 0.1053 - val_accuracy: 0.9694\n",
      "Epoch 9/20\n",
      "60000/60000 [==============================] - 6s 92us/step - loss: 0.0916 - accuracy: 0.9753 - val_loss: 0.0984 - val_accuracy: 0.9710\n",
      "Epoch 10/20\n",
      "60000/60000 [==============================] - 5s 77us/step - loss: 0.0841 - accuracy: 0.9779 - val_loss: 0.0927 - val_accuracy: 0.9726\n",
      "Epoch 11/20\n",
      "60000/60000 [==============================] - 5s 80us/step - loss: 0.0777 - accuracy: 0.9794 - val_loss: 0.0897 - val_accuracy: 0.9732\n",
      "Epoch 12/20\n",
      "60000/60000 [==============================] - 6s 94us/step - loss: 0.0723 - accuracy: 0.9812 - val_loss: 0.0868 - val_accuracy: 0.9743\n",
      "Epoch 13/20\n",
      "60000/60000 [==============================] - 4s 66us/step - loss: 0.0673 - accuracy: 0.9821 - val_loss: 0.0824 - val_accuracy: 0.9754\n",
      "Epoch 14/20\n",
      "60000/60000 [==============================] - 3s 55us/step - loss: 0.0629 - accuracy: 0.9839 - val_loss: 0.0803 - val_accuracy: 0.9765\n",
      "Epoch 15/20\n",
      "60000/60000 [==============================] - 4s 59us/step - loss: 0.0588 - accuracy: 0.9845 - val_loss: 0.0798 - val_accuracy: 0.9766\n",
      "Epoch 16/20\n",
      "60000/60000 [==============================] - 4s 69us/step - loss: 0.0552 - accuracy: 0.9858 - val_loss: 0.0736 - val_accuracy: 0.9780\n",
      "Epoch 17/20\n",
      "60000/60000 [==============================] - 4s 62us/step - loss: 0.0519 - accuracy: 0.9866 - val_loss: 0.0732 - val_accuracy: 0.9785\n",
      "Epoch 18/20\n",
      "60000/60000 [==============================] - 4s 67us/step - loss: 0.0490 - accuracy: 0.9877 - val_loss: 0.0706 - val_accuracy: 0.9792\n",
      "Epoch 19/20\n",
      "60000/60000 [==============================] - 4s 73us/step - loss: 0.0462 - accuracy: 0.9887 - val_loss: 0.0695 - val_accuracy: 0.9792\n",
      "Epoch 20/20\n",
      "60000/60000 [==============================] - 5s 86us/step - loss: 0.0437 - accuracy: 0.9898 - val_loss: 0.0682 - val_accuracy: 0.9802\n",
      "\n",
      "Accuracy sur la base de Test : 0.9801999926567078\n",
      "\n",
      "CPU times: user 2min 48s, sys: 17.5 s, total: 3min 5s\n",
      "Wall time: 1min 33s\n"
     ]
    }
   ],
   "source": [
    "%%time\n",
    "\n",
    "model = Sequential()\n",
    "model.add(Dense(2000, input_shape=(784,)))\n",
    "model.add(Activation('relu'))\n",
    "model.add(Dense(10))\n",
    "model.add(Activation('softmax'))\n",
    "\n",
    "model.compile(loss='categorical_crossentropy', optimizer=SGD(0.5), metrics=['accuracy'])\n",
    "\n",
    "history = model.fit(training_images, training_labels_categories, batch_size=800, epochs=20,\n",
    "                    verbose=1, validation_data=(test_images, test_labels_categories))\n",
    "score = model.evaluate(test_images, test_labels_categories, verbose=0)\n",
    "print()\n",
    "print('Accuracy sur la base de Test :', score[1])\n",
    "print()"
   ]
  },
  {
   "cell_type": "markdown",
   "metadata": {},
   "source": [
    "## Test du modèle"
   ]
  },
  {
   "cell_type": "code",
   "execution_count": 8,
   "metadata": {},
   "outputs": [
    {
     "data": {
      "image/png": "[encoded data removed]",
      "text/plain": [
       "<Figure size 432x288 with 3 Axes>"
      ]
     },
     "metadata": {
      "needs_background": "light"
     },
     "output_type": "display_data"
    }
   ],
   "source": [
    "classes_predites = model.predict_classes(test_images)\n",
    "correct_indices = np.nonzero(classes_predites == test_labels)[0]\n",
    "incorrect_indices = np.nonzero(classes_predites != test_labels)[0]\n",
    "\n",
    "plt.figure()\n",
    "for i, correct in enumerate(correct_indices[:3]):\n",
    "    plt.subplot(1,3,i+1)\n",
    "    plt.imshow(test_images[correct].reshape(28,28), cmap='gray', interpolation='none')\n",
    "    plt.title(\"Score={} Chiffre={}\".format(classes_predites[correct], test_labels[correct]))"
   ]
  },
  {
   "cell_type": "markdown",
   "metadata": {},
   "source": [
    "### Erreurs du modèle :"
   ]
  },
  {
   "cell_type": "code",
   "execution_count": 9,
   "metadata": {},
   "outputs": [
    {
     "data": {
      "text/plain": [
       "array([ 247,  259,  321,  340,  445,  495,  582,  613,  619,  659,  684,\n",
       "        691,  707,  720,  740,  760,  813,  947,  951,  956,  965, 1014,\n",
       "       1032, 1039, 1112, 1178, 1181, 1182, 1194, 1226, 1232, 1242, 1247,\n",
       "       1260, 1299, 1319, 1326, 1328, 1393, 1444, 1500, 1522, 1530, 1549,\n",
       "       1553, 1581, 1609, 1671, 1681, 1709, 1717, 1754, 1790, 1878, 1901,\n",
       "       1940, 1941, 1984, 1987, 2016, 2035, 2040, 2043, 2044, 2053, 2070,\n",
       "       2098, 2109, 2118, 2130, 2135, 2182, 2224, 2272, 2293, 2387, 2406,\n",
       "       2414, 2454, 2488, 2607, 2648, 2654, 2877, 2896, 2915, 2939, 2953,\n",
       "       3005, 3060, 3073, 3117, 3333, 3405, 3422, 3503, 3520, 3549, 3558,\n",
       "       3559, 3597, 3718, 3749, 3757, 3767, 3776, 3780, 3796, 3808, 3811,\n",
       "       3838, 3853, 3893, 3906, 3941, 3985, 4063, 4065, 4075, 4078, 4163,\n",
       "       4176, 4199, 4201, 4224, 4248, 4289, 4425, 4497, 4536, 4601, 4807,\n",
       "       4814, 4823, 4860, 4880, 4956, 4966, 5331, 5457, 5600, 5642, 5676,\n",
       "       5734, 5749, 5887, 5936, 5937, 5955, 5972, 5973, 5982, 6023, 6045,\n",
       "       6046, 6059, 6166, 6505, 6555, 6558, 6571, 6597, 6625, 6651, 6783,\n",
       "       6847, 7216, 7434, 7451, 7886, 8020, 8062, 8094, 8183, 8311, 8408,\n",
       "       8522, 9009, 9015, 9019, 9024, 9280, 9587, 9634, 9679, 9698, 9719,\n",
       "       9729, 9745, 9749, 9768, 9770, 9779, 9792, 9808, 9811, 9839, 9944])"
      ]
     },
     "execution_count": 9,
     "metadata": {},
     "output_type": "execute_result"
    }
   ],
   "source": [
    "incorrect_indices"
   ]
  },
  {
   "cell_type": "code",
   "execution_count": 10,
   "metadata": {},
   "outputs": [
    {
     "data": {
      "image/png": "[encoded data removed]",
      "text/plain": [
       "<Figure size 432x288 with 3 Axes>"
      ]
     },
     "metadata": {
      "needs_background": "light"
     },
     "output_type": "display_data"
    }
   ],
   "source": [
    "plt.figure()\n",
    "for i, incorrect in enumerate(incorrect_indices[:3]):\n",
    "    plt.subplot(1,3,i+1)\n",
    "    plt.imshow(test_images[incorrect].reshape(28,28), cmap='gray', interpolation='none')\n",
    "    plt.title(\"Score={} Chiffre={}\".format(classes_predites[incorrect], test_labels[incorrect]))"
   ]
  },
  {
   "cell_type": "markdown",
   "metadata": {},
   "source": [
    "<img src=\"https://github.com/retkowsky/images/blob/master/Powered-by-MS-Azure-logo-v2.png?raw=true\" height=\"300\" width=\"300\">"
   ]
  },
  {
   "cell_type": "code",
   "execution_count": null,
   "metadata": {},
   "outputs": [],
   "source": []
  }
 ],
 "metadata": {
  "kernelspec": {
   "display_name": "Python 3.6 - AzureML",
   "language": "python",
   "name": "python3-azureml"
  },
  "language_info": {
   "codemirror_mode": {
    "name": "ipython",
    "version": 3
   },
   "file_extension": ".py",
   "mimetype": "text/x-python",
   "name": "python",
   "nbconvert_exporter": "python",
   "pygments_lexer": "ipython3",
   "version": "3.6.9"
  }
 },
 "nbformat": 4,
 "nbformat_minor": 2
}
