{
 "cells": [
  {
   "cell_type": "markdown",
   "metadata": {},
   "source": [
    "# Déploiement ACI (Azure Container Instance)"
   ]
  },
  {
   "cell_type": "markdown",
   "metadata": {},
   "source": [
    "<img src='https://github.com/retkowsky/images/blob/master/AzureMLservicebanniere.png?raw=true'>"
   ]
  },
  {
   "cell_type": "markdown",
   "metadata": {},
   "source": [
    "> Documentation: https://docs.microsoft.com/en-us/azure/machine-learning/"
   ]
  },
  {
   "cell_type": "markdown",
   "metadata": {},
   "source": [
    "## 1. Informations"
   ]
  },
  {
   "cell_type": "code",
   "execution_count": 1,
   "metadata": {},
   "outputs": [
    {
     "name": "stdout",
     "output_type": "stream",
     "text": [
      "Python version :  3.6.9 |Anaconda, Inc.| (default, Jul 30 2019, 19:07:31) \n",
      "[GCC 7.3.0]\n"
     ]
    }
   ],
   "source": [
    "import sys\n",
    "print(\"Python version : \",sys.version)"
   ]
  },
  {
   "cell_type": "code",
   "execution_count": 2,
   "metadata": {},
   "outputs": [
    {
     "name": "stdout",
     "output_type": "stream",
     "text": [
      "2020-06-01 08:33:59.504601\n"
     ]
    }
   ],
   "source": [
    "import datetime\n",
    "maintenant = datetime.datetime.now()\n",
    "print(maintenant)"
   ]
  },
  {
   "cell_type": "code",
   "execution_count": 3,
   "metadata": {},
   "outputs": [
    {
     "name": "stdout",
     "output_type": "stream",
     "text": [
      "Version Azure ML service : 1.6.0\n"
     ]
    }
   ],
   "source": [
    "#Version\n",
    "import azureml.core\n",
    "print(\"Version Azure ML service :\", azureml.core.VERSION)"
   ]
  },
  {
   "cell_type": "code",
   "execution_count": 4,
   "metadata": {},
   "outputs": [],
   "source": [
    "import azureml.core\n",
    "from azureml.core.workspace import Workspace\n",
    "import pandas as pd\n",
    "import sklearn\n",
    "import matplotlib.pyplot as plt\n",
    "\n",
    "from sklearn.datasets import load_boston\n",
    "from azureml.core.model import Model\n",
    "from sklearn.externals import joblib\n",
    "from sklearn.model_selection import train_test_split\n",
    "from sklearn.linear_model import LinearRegression\n",
    "from azureml.core import Environment\n",
    "from azureml.core.model import InferenceConfig"
   ]
  },
  {
   "cell_type": "code",
   "execution_count": 5,
   "metadata": {},
   "outputs": [
    {
     "name": "stdout",
     "output_type": "stream",
     "text": [
      "workshopAML2020\n",
      "workshopAML2020-rg\n",
      "westeurope\n"
     ]
    }
   ],
   "source": [
    "ws = Workspace.from_config()\n",
    "print(ws.name, ws.resource_group, ws.location, sep='\\n')"
   ]
  },
  {
   "cell_type": "markdown",
   "metadata": {},
   "source": [
    "## 3. Prédiction des prix des biens immobiliers"
   ]
  },
  {
   "cell_type": "markdown",
   "metadata": {},
   "source": [
    "### Boston dataset example"
   ]
  },
  {
   "cell_type": "markdown",
   "metadata": {},
   "source": [
    "Feature Descriptions\t\t\t\t\n",
    "1. CRIM - per capita crime rate by town\t\t\t\t\n",
    "2. ZN - proportion of residential land zoned for lots over 25,000 sq.ft.\t\t\t\t\n",
    "3. INDUS - proportion of non-retail business acres per town.\t\t\t\t\n",
    "4. CHAS - Charles River dummy variable (1 if tract bounds river; 0 otherwise)\t\t\t\t\n",
    "5. NOX - nitric oxides concentration (parts per 10 million)\t\t\t\t\n",
    "6. RM - average number of rooms per dwelling\t\t\t\t\n",
    "7. AGE - proportion of owner-occupied units built prior to 1940\t\t\t\t\n",
    "8. DIS - weighted distances to five Boston employment centres\t\t\t\t\n",
    "9. RAD - index of accessibility to radial highways\t\t\t\t\n",
    "10. TAX - full-value property-tax rate per $10000\t\n",
    "\n",
    "11. PTRATIO - pupil-teacher ratio by town\t\t\t\t\n",
    "12. B - 1000(Bk - 0.63)^2 where Bk is the proportion of blacks by town\t\t\t\t\n",
    "13. LSTAT - pct lower status of the population\t\t\t\t\n",
    "14. MEDV - Median value of owner-occupied homes in $1000's"
   ]
  },
  {
   "cell_type": "code",
   "execution_count": 6,
   "metadata": {},
   "outputs": [],
   "source": [
    "boston = load_boston()\n",
    "bos = pd.DataFrame(boston.data)\n",
    "bos.columns = boston.feature_names\n",
    "bos['PRICE'] = boston.target"
   ]
  },
  {
   "cell_type": "code",
   "execution_count": 7,
   "metadata": {},
   "outputs": [
    {
     "data": {
      "text/html": [
       "<div>\n",
       "<style scoped>\n",
       "    .dataframe tbody tr th:only-of-type {\n",
       "        vertical-align: middle;\n",
       "    }\n",
       "\n",
       "    .dataframe tbody tr th {\n",
       "        vertical-align: top;\n",
       "    }\n",
       "\n",
       "    .dataframe thead th {\n",
       "        text-align: right;\n",
       "    }\n",
       "</style>\n",
       "<table border=\"1\" class=\"dataframe\">\n",
       "  <thead>\n",
       "    <tr style=\"text-align: right;\">\n",
       "      <th></th>\n",
       "      <th>CRIM</th>\n",
       "      <th>ZN</th>\n",
       "      <th>INDUS</th>\n",
       "      <th>CHAS</th>\n",
       "      <th>NOX</th>\n",
       "      <th>RM</th>\n",
       "      <th>AGE</th>\n",
       "      <th>DIS</th>\n",
       "      <th>RAD</th>\n",
       "      <th>TAX</th>\n",
       "      <th>PTRATIO</th>\n",
       "      <th>B</th>\n",
       "      <th>LSTAT</th>\n",
       "      <th>PRICE</th>\n",
       "    </tr>\n",
       "  </thead>\n",
       "  <tbody>\n",
       "    <tr>\n",
       "      <th>0</th>\n",
       "      <td>0.00632</td>\n",
       "      <td>18.0</td>\n",
       "      <td>2.31</td>\n",
       "      <td>0.0</td>\n",
       "      <td>0.538</td>\n",
       "      <td>6.575</td>\n",
       "      <td>65.2</td>\n",
       "      <td>4.0900</td>\n",
       "      <td>1.0</td>\n",
       "      <td>296.0</td>\n",
       "      <td>15.3</td>\n",
       "      <td>396.90</td>\n",
       "      <td>4.98</td>\n",
       "      <td>24.0</td>\n",
       "    </tr>\n",
       "    <tr>\n",
       "      <th>1</th>\n",
       "      <td>0.02731</td>\n",
       "      <td>0.0</td>\n",
       "      <td>7.07</td>\n",
       "      <td>0.0</td>\n",
       "      <td>0.469</td>\n",
       "      <td>6.421</td>\n",
       "      <td>78.9</td>\n",
       "      <td>4.9671</td>\n",
       "      <td>2.0</td>\n",
       "      <td>242.0</td>\n",
       "      <td>17.8</td>\n",
       "      <td>396.90</td>\n",
       "      <td>9.14</td>\n",
       "      <td>21.6</td>\n",
       "    </tr>\n",
       "    <tr>\n",
       "      <th>2</th>\n",
       "      <td>0.02729</td>\n",
       "      <td>0.0</td>\n",
       "      <td>7.07</td>\n",
       "      <td>0.0</td>\n",
       "      <td>0.469</td>\n",
       "      <td>7.185</td>\n",
       "      <td>61.1</td>\n",
       "      <td>4.9671</td>\n",
       "      <td>2.0</td>\n",
       "      <td>242.0</td>\n",
       "      <td>17.8</td>\n",
       "      <td>392.83</td>\n",
       "      <td>4.03</td>\n",
       "      <td>34.7</td>\n",
       "    </tr>\n",
       "    <tr>\n",
       "      <th>3</th>\n",
       "      <td>0.03237</td>\n",
       "      <td>0.0</td>\n",
       "      <td>2.18</td>\n",
       "      <td>0.0</td>\n",
       "      <td>0.458</td>\n",
       "      <td>6.998</td>\n",
       "      <td>45.8</td>\n",
       "      <td>6.0622</td>\n",
       "      <td>3.0</td>\n",
       "      <td>222.0</td>\n",
       "      <td>18.7</td>\n",
       "      <td>394.63</td>\n",
       "      <td>2.94</td>\n",
       "      <td>33.4</td>\n",
       "    </tr>\n",
       "    <tr>\n",
       "      <th>4</th>\n",
       "      <td>0.06905</td>\n",
       "      <td>0.0</td>\n",
       "      <td>2.18</td>\n",
       "      <td>0.0</td>\n",
       "      <td>0.458</td>\n",
       "      <td>7.147</td>\n",
       "      <td>54.2</td>\n",
       "      <td>6.0622</td>\n",
       "      <td>3.0</td>\n",
       "      <td>222.0</td>\n",
       "      <td>18.7</td>\n",
       "      <td>396.90</td>\n",
       "      <td>5.33</td>\n",
       "      <td>36.2</td>\n",
       "    </tr>\n",
       "  </tbody>\n",
       "</table>\n",
       "</div>"
      ],
      "text/plain": [
       "      CRIM    ZN  INDUS  CHAS    NOX     RM   AGE     DIS  RAD    TAX  \\\n",
       "0  0.00632  18.0   2.31   0.0  0.538  6.575  65.2  4.0900  1.0  296.0   \n",
       "1  0.02731   0.0   7.07   0.0  0.469  6.421  78.9  4.9671  2.0  242.0   \n",
       "2  0.02729   0.0   7.07   0.0  0.469  7.185  61.1  4.9671  2.0  242.0   \n",
       "3  0.03237   0.0   2.18   0.0  0.458  6.998  45.8  6.0622  3.0  222.0   \n",
       "4  0.06905   0.0   2.18   0.0  0.458  7.147  54.2  6.0622  3.0  222.0   \n",
       "\n",
       "   PTRATIO       B  LSTAT  PRICE  \n",
       "0     15.3  396.90   4.98   24.0  \n",
       "1     17.8  396.90   9.14   21.6  \n",
       "2     17.8  392.83   4.03   34.7  \n",
       "3     18.7  394.63   2.94   33.4  \n",
       "4     18.7  396.90   5.33   36.2  "
      ]
     },
     "execution_count": 7,
     "metadata": {},
     "output_type": "execute_result"
    }
   ],
   "source": [
    "bos.head()"
   ]
  },
  {
   "cell_type": "code",
   "execution_count": 8,
   "metadata": {},
   "outputs": [
    {
     "data": {
      "text/html": [
       "<div>\n",
       "<style scoped>\n",
       "    .dataframe tbody tr th:only-of-type {\n",
       "        vertical-align: middle;\n",
       "    }\n",
       "\n",
       "    .dataframe tbody tr th {\n",
       "        vertical-align: top;\n",
       "    }\n",
       "\n",
       "    .dataframe thead th {\n",
       "        text-align: right;\n",
       "    }\n",
       "</style>\n",
       "<table border=\"1\" class=\"dataframe\">\n",
       "  <thead>\n",
       "    <tr style=\"text-align: right;\">\n",
       "      <th></th>\n",
       "      <th>CRIM</th>\n",
       "      <th>ZN</th>\n",
       "      <th>INDUS</th>\n",
       "      <th>CHAS</th>\n",
       "      <th>NOX</th>\n",
       "      <th>RM</th>\n",
       "      <th>AGE</th>\n",
       "      <th>DIS</th>\n",
       "      <th>RAD</th>\n",
       "      <th>TAX</th>\n",
       "      <th>PTRATIO</th>\n",
       "      <th>B</th>\n",
       "      <th>LSTAT</th>\n",
       "      <th>PRICE</th>\n",
       "    </tr>\n",
       "  </thead>\n",
       "  <tbody>\n",
       "    <tr>\n",
       "      <th>count</th>\n",
       "      <td>506.000000</td>\n",
       "      <td>506.000000</td>\n",
       "      <td>506.000000</td>\n",
       "      <td>506.000000</td>\n",
       "      <td>506.000000</td>\n",
       "      <td>506.000000</td>\n",
       "      <td>506.000000</td>\n",
       "      <td>506.000000</td>\n",
       "      <td>506.000000</td>\n",
       "      <td>506.000000</td>\n",
       "      <td>506.000000</td>\n",
       "      <td>506.000000</td>\n",
       "      <td>506.000000</td>\n",
       "      <td>506.000000</td>\n",
       "    </tr>\n",
       "    <tr>\n",
       "      <th>mean</th>\n",
       "      <td>3.613524</td>\n",
       "      <td>11.363636</td>\n",
       "      <td>11.136779</td>\n",
       "      <td>0.069170</td>\n",
       "      <td>0.554695</td>\n",
       "      <td>6.284634</td>\n",
       "      <td>68.574901</td>\n",
       "      <td>3.795043</td>\n",
       "      <td>9.549407</td>\n",
       "      <td>408.237154</td>\n",
       "      <td>18.455534</td>\n",
       "      <td>356.674032</td>\n",
       "      <td>12.653063</td>\n",
       "      <td>22.532806</td>\n",
       "    </tr>\n",
       "    <tr>\n",
       "      <th>std</th>\n",
       "      <td>8.601545</td>\n",
       "      <td>23.322453</td>\n",
       "      <td>6.860353</td>\n",
       "      <td>0.253994</td>\n",
       "      <td>0.115878</td>\n",
       "      <td>0.702617</td>\n",
       "      <td>28.148861</td>\n",
       "      <td>2.105710</td>\n",
       "      <td>8.707259</td>\n",
       "      <td>168.537116</td>\n",
       "      <td>2.164946</td>\n",
       "      <td>91.294864</td>\n",
       "      <td>7.141062</td>\n",
       "      <td>9.197104</td>\n",
       "    </tr>\n",
       "    <tr>\n",
       "      <th>min</th>\n",
       "      <td>0.006320</td>\n",
       "      <td>0.000000</td>\n",
       "      <td>0.460000</td>\n",
       "      <td>0.000000</td>\n",
       "      <td>0.385000</td>\n",
       "      <td>3.561000</td>\n",
       "      <td>2.900000</td>\n",
       "      <td>1.129600</td>\n",
       "      <td>1.000000</td>\n",
       "      <td>187.000000</td>\n",
       "      <td>12.600000</td>\n",
       "      <td>0.320000</td>\n",
       "      <td>1.730000</td>\n",
       "      <td>5.000000</td>\n",
       "    </tr>\n",
       "    <tr>\n",
       "      <th>25%</th>\n",
       "      <td>0.082045</td>\n",
       "      <td>0.000000</td>\n",
       "      <td>5.190000</td>\n",
       "      <td>0.000000</td>\n",
       "      <td>0.449000</td>\n",
       "      <td>5.885500</td>\n",
       "      <td>45.025000</td>\n",
       "      <td>2.100175</td>\n",
       "      <td>4.000000</td>\n",
       "      <td>279.000000</td>\n",
       "      <td>17.400000</td>\n",
       "      <td>375.377500</td>\n",
       "      <td>6.950000</td>\n",
       "      <td>17.025000</td>\n",
       "    </tr>\n",
       "    <tr>\n",
       "      <th>50%</th>\n",
       "      <td>0.256510</td>\n",
       "      <td>0.000000</td>\n",
       "      <td>9.690000</td>\n",
       "      <td>0.000000</td>\n",
       "      <td>0.538000</td>\n",
       "      <td>6.208500</td>\n",
       "      <td>77.500000</td>\n",
       "      <td>3.207450</td>\n",
       "      <td>5.000000</td>\n",
       "      <td>330.000000</td>\n",
       "      <td>19.050000</td>\n",
       "      <td>391.440000</td>\n",
       "      <td>11.360000</td>\n",
       "      <td>21.200000</td>\n",
       "    </tr>\n",
       "    <tr>\n",
       "      <th>75%</th>\n",
       "      <td>3.677083</td>\n",
       "      <td>12.500000</td>\n",
       "      <td>18.100000</td>\n",
       "      <td>0.000000</td>\n",
       "      <td>0.624000</td>\n",
       "      <td>6.623500</td>\n",
       "      <td>94.075000</td>\n",
       "      <td>5.188425</td>\n",
       "      <td>24.000000</td>\n",
       "      <td>666.000000</td>\n",
       "      <td>20.200000</td>\n",
       "      <td>396.225000</td>\n",
       "      <td>16.955000</td>\n",
       "      <td>25.000000</td>\n",
       "    </tr>\n",
       "    <tr>\n",
       "      <th>max</th>\n",
       "      <td>88.976200</td>\n",
       "      <td>100.000000</td>\n",
       "      <td>27.740000</td>\n",
       "      <td>1.000000</td>\n",
       "      <td>0.871000</td>\n",
       "      <td>8.780000</td>\n",
       "      <td>100.000000</td>\n",
       "      <td>12.126500</td>\n",
       "      <td>24.000000</td>\n",
       "      <td>711.000000</td>\n",
       "      <td>22.000000</td>\n",
       "      <td>396.900000</td>\n",
       "      <td>37.970000</td>\n",
       "      <td>50.000000</td>\n",
       "    </tr>\n",
       "  </tbody>\n",
       "</table>\n",
       "</div>"
      ],
      "text/plain": [
       "             CRIM          ZN       INDUS        CHAS         NOX          RM  \\\n",
       "count  506.000000  506.000000  506.000000  506.000000  506.000000  506.000000   \n",
       "mean     3.613524   11.363636   11.136779    0.069170    0.554695    6.284634   \n",
       "std      8.601545   23.322453    6.860353    0.253994    0.115878    0.702617   \n",
       "min      0.006320    0.000000    0.460000    0.000000    0.385000    3.561000   \n",
       "25%      0.082045    0.000000    5.190000    0.000000    0.449000    5.885500   \n",
       "50%      0.256510    0.000000    9.690000    0.000000    0.538000    6.208500   \n",
       "75%      3.677083   12.500000   18.100000    0.000000    0.624000    6.623500   \n",
       "max     88.976200  100.000000   27.740000    1.000000    0.871000    8.780000   \n",
       "\n",
       "              AGE         DIS         RAD         TAX     PTRATIO           B  \\\n",
       "count  506.000000  506.000000  506.000000  506.000000  506.000000  506.000000   \n",
       "mean    68.574901    3.795043    9.549407  408.237154   18.455534  356.674032   \n",
       "std     28.148861    2.105710    8.707259  168.537116    2.164946   91.294864   \n",
       "min      2.900000    1.129600    1.000000  187.000000   12.600000    0.320000   \n",
       "25%     45.025000    2.100175    4.000000  279.000000   17.400000  375.377500   \n",
       "50%     77.500000    3.207450    5.000000  330.000000   19.050000  391.440000   \n",
       "75%     94.075000    5.188425   24.000000  666.000000   20.200000  396.225000   \n",
       "max    100.000000   12.126500   24.000000  711.000000   22.000000  396.900000   \n",
       "\n",
       "            LSTAT       PRICE  \n",
       "count  506.000000  506.000000  \n",
       "mean    12.653063   22.532806  \n",
       "std      7.141062    9.197104  \n",
       "min      1.730000    5.000000  \n",
       "25%      6.950000   17.025000  \n",
       "50%     11.360000   21.200000  \n",
       "75%     16.955000   25.000000  \n",
       "max     37.970000   50.000000  "
      ]
     },
     "execution_count": 8,
     "metadata": {},
     "output_type": "execute_result"
    }
   ],
   "source": [
    "bos.describe()"
   ]
  },
  {
   "cell_type": "code",
   "execution_count": 9,
   "metadata": {},
   "outputs": [
    {
     "data": {
      "image/png": "[encoded data removed]",
      "text/plain": [
       "<Figure size 360x288 with 1 Axes>"
      ]
     },
     "metadata": {
      "needs_background": "light"
     },
     "output_type": "display_data"
    }
   ],
   "source": [
    "import pandas as pd\n",
    "import matplotlib.pyplot as plt\n",
    "boston = load_boston()\n",
    "plt.figure(figsize=(5, 4))\n",
    "plt.hist(boston.target)\n",
    "plt.title('Graphique')\n",
    "plt.xlabel('price ($1000s)')\n",
    "plt.ylabel('count')\n",
    "plt.show()"
   ]
  },
  {
   "cell_type": "code",
   "execution_count": 10,
   "metadata": {},
   "outputs": [
    {
     "data": {
      "image/png": "[encoded data removed]",
      "text/plain": [
       "<Figure size 432x288 with 2 Axes>"
      ]
     },
     "metadata": {
      "needs_background": "light"
     },
     "output_type": "display_data"
    }
   ],
   "source": [
    "import seaborn as sns\n",
    " \n",
    "boston = load_boston()\n",
    "boston_pd = pd.DataFrame(boston.data, columns = boston.feature_names)\n",
    "correlation_matrix = boston_pd.corr().round(2)\n",
    "sns.heatmap(correlation_matrix, cmap=\"YlGnBu\")\n",
    "plt.show()"
   ]
  },
  {
   "cell_type": "code",
   "execution_count": 11,
   "metadata": {},
   "outputs": [
    {
     "data": {
      "image/png": "[encoded data removed]",
      "text/plain": [
       "<Figure size 360x288 with 1 Axes>"
      ]
     },
     "metadata": {
      "needs_background": "light"
     },
     "output_type": "display_data"
    },
    {
     "data": {
      "image/png": "[encoded data removed]",
      "text/plain": [
       "<Figure size 360x288 with 1 Axes>"
      ]
     },
     "metadata": {
      "needs_background": "light"
     },
     "output_type": "display_data"
    },
    {
     "data": {
      "image/png": "[encoded data removed]",
      "text/plain": [
       "<Figure size 360x288 with 1 Axes>"
      ]
     },
     "metadata": {
      "needs_background": "light"
     },
     "output_type": "display_data"
    },
    {
     "data": {
      "image/png": "[encoded data removed]",
      "text/plain": [
       "<Figure size 360x288 with 1 Axes>"
      ]
     },
     "metadata": {
      "needs_background": "light"
     },
     "output_type": "display_data"
    },
    {
     "data": {
      "image/png": "[encoded data removed]",
      "text/plain": [
       "<Figure size 360x288 with 1 Axes>"
      ]
     },
     "metadata": {
      "needs_background": "light"
     },
     "output_type": "display_data"
    },
    {
     "data": {
      "image/png": "[encoded data removed]",
      "text/plain": [
       "<Figure size 360x288 with 1 Axes>"
      ]
     },
     "metadata": {
      "needs_background": "light"
     },
     "output_type": "display_data"
    },
    {
     "data": {
      "image/png": "[encoded data removed]",
      "text/plain": [
       "<Figure size 360x288 with 1 Axes>"
      ]
     },
     "metadata": {
      "needs_background": "light"
     },
     "output_type": "display_data"
    },
    {
     "data": {
      "image/png": "[encoded data removed]",
      "text/plain": [
       "<Figure size 360x288 with 1 Axes>"
      ]
     },
     "metadata": {
      "needs_background": "light"
     },
     "output_type": "display_data"
    },
    {
     "data": {
      "image/png": "[encoded data removed]",
      "text/plain": [
       "<Figure size 360x288 with 1 Axes>"
      ]
     },
     "metadata": {
      "needs_background": "light"
     },
     "output_type": "display_data"
    },
    {
     "data": {
      "image/png": "[encoded data removed]",
      "text/plain": [
       "<Figure size 360x288 with 1 Axes>"
      ]
     },
     "metadata": {
      "needs_background": "light"
     },
     "output_type": "display_data"
    },
    {
     "data": {
      "image/png": "[encoded data removed]",
      "text/plain": [
       "<Figure size 360x288 with 1 Axes>"
      ]
     },
     "metadata": {
      "needs_background": "light"
     },
     "output_type": "display_data"
    },
    {
     "data": {
      "image/png": "[encoded data removed]",
      "text/plain": [
       "<Figure size 360x288 with 1 Axes>"
      ]
     },
     "metadata": {
      "needs_background": "light"
     },
     "output_type": "display_data"
    },
    {
     "data": {
      "image/png": "[encoded data removed]",
      "text/plain": [
       "<Figure size 360x288 with 1 Axes>"
      ]
     },
     "metadata": {
      "needs_background": "light"
     },
     "output_type": "display_data"
    }
   ],
   "source": [
    "for index, feature_name in enumerate(boston.feature_names):\n",
    "    plt.figure(figsize=(5, 4))\n",
    "    plt.scatter(boston.data[:, index], boston.target)\n",
    "    plt.ylabel('Price', size=12)\n",
    "    plt.xlabel(feature_name, size=12)\n",
    "    plt.show()"
   ]
  },
  {
   "cell_type": "code",
   "execution_count": 12,
   "metadata": {},
   "outputs": [],
   "source": [
    "X = bos.drop('PRICE', axis = 1)\n",
    "Y = bos['PRICE']\n",
    "X_train, X_test, Y_train, Y_test = train_test_split(X, Y, test_size = 0.33, random_state = 5)"
   ]
  },
  {
   "cell_type": "code",
   "execution_count": 13,
   "metadata": {},
   "outputs": [
    {
     "data": {
      "text/plain": [
       "LinearRegression(copy_X=True, fit_intercept=True, n_jobs=None,\n",
       "         normalize=False)"
      ]
     },
     "execution_count": 13,
     "metadata": {},
     "output_type": "execute_result"
    }
   ],
   "source": [
    "lm = LinearRegression()\n",
    "lm.fit(X_train, Y_train)"
   ]
  },
  {
   "cell_type": "code",
   "execution_count": 14,
   "metadata": {},
   "outputs": [
    {
     "name": "stdout",
     "output_type": "stream",
     "text": [
      "Coefficients: \n",
      " [-1.56381297e-01  3.85490972e-02 -2.50629921e-02  7.86439684e-01\n",
      " -1.29469121e+01  4.00268857e+00 -1.16023395e-02 -1.36828811e+00\n",
      "  3.41756915e-01 -1.35148823e-02 -9.88866034e-01  1.20588215e-02\n",
      " -4.72644280e-01]\n"
     ]
    }
   ],
   "source": [
    "print('Coefficients: \\n', lm.coef_)"
   ]
  },
  {
   "cell_type": "code",
   "execution_count": 15,
   "metadata": {},
   "outputs": [
    {
     "name": "stdout",
     "output_type": "stream",
     "text": [
      "R2 Test = 69.57\n",
      "R2 Training = 75.51\n"
     ]
    }
   ],
   "source": [
    "import numpy as np\n",
    "print('R2 Test =', np.round(lm.score(X_test,Y_test)*100,2))\n",
    "print('R2 Training =', np.round(lm.score(X_train,Y_train)*100,2))"
   ]
  },
  {
   "cell_type": "code",
   "execution_count": 16,
   "metadata": {},
   "outputs": [
    {
     "data": {
      "image/png": "[encoded data removed]",
      "text/plain": [
       "<Figure size 432x288 with 1 Axes>"
      ]
     },
     "metadata": {
      "needs_background": "light"
     },
     "output_type": "display_data"
    }
   ],
   "source": [
    "Y_pred = lm.predict(X_test)\n",
    "plt.scatter(Y_test, Y_pred)\n",
    "plt.xlabel(\"Prices: $Y_i$\")\n",
    "plt.ylabel(\"Predicted prices: $\\hat{Y}_i$\")\n",
    "plt.title(\"Prices vs Predicted prices: $Y_i$ vs $\\hat{Y}_i$\")\n",
    "plt.show()"
   ]
  },
  {
   "cell_type": "markdown",
   "metadata": {},
   "source": [
    "### Référencement du modèle de ML"
   ]
  },
  {
   "cell_type": "code",
   "execution_count": 17,
   "metadata": {},
   "outputs": [
    {
     "name": "stdout",
     "output_type": "stream",
     "text": [
      "Registering model boston_model.pkl\n"
     ]
    }
   ],
   "source": [
    "model_file_name = 'boston_model.pkl'\n",
    "joblib.dump(value = lm, filename = model_file_name)\n",
    "\n",
    "registered_trained_model = Model.register(workspace=ws, \n",
    "                                          model_path=model_file_name, \n",
    "                                          model_name=model_file_name, \n",
    "                                          description=\"Modèle Pricing Boston\", \n",
    "                                          tags = {'algo': \"Regression\", 'Training context': \"Azure ML\", 'Framework' : 'scikit-learn'}\n",
    "                                         )"
   ]
  },
  {
   "cell_type": "code",
   "execution_count": 18,
   "metadata": {},
   "outputs": [
    {
     "name": "stdout",
     "output_type": "stream",
     "text": [
      "Nom du modèle : boston_model.pkl\n"
     ]
    }
   ],
   "source": [
    "print('Nom du modèle :', registered_trained_model.name)"
   ]
  },
  {
   "cell_type": "code",
   "execution_count": 19,
   "metadata": {},
   "outputs": [
    {
     "name": "stdout",
     "output_type": "stream",
     "text": [
      "Description du modèle : Modèle Pricing Boston\n"
     ]
    }
   ],
   "source": [
    "print('Description du modèle :', registered_trained_model.description)"
   ]
  },
  {
   "cell_type": "code",
   "execution_count": 20,
   "metadata": {},
   "outputs": [
    {
     "name": "stdout",
     "output_type": "stream",
     "text": [
      "Tags du modèle : {'algo': 'Regression', 'Training context': 'Azure ML', 'Framework': 'scikit-learn'}\n"
     ]
    }
   ],
   "source": [
    "print('Tags du modèle :', registered_trained_model.tags)"
   ]
  },
  {
   "cell_type": "code",
   "execution_count": 21,
   "metadata": {},
   "outputs": [
    {
     "name": "stdout",
     "output_type": "stream",
     "text": [
      "Version du modèle : 16\n"
     ]
    }
   ],
   "source": [
    "print('Version du modèle :', registered_trained_model.version)"
   ]
  },
  {
   "cell_type": "code",
   "execution_count": 22,
   "metadata": {},
   "outputs": [
    {
     "name": "stdout",
     "output_type": "stream",
     "text": [
      "boston_model.pkl - version = 16\n",
      "\t algo : Regression\n",
      "\t Training context : Azure ML\n",
      "\t Framework : scikit-learn\n",
      "\n",
      "\n",
      "mybestmodel - version = 8\n",
      "\t Training context : Azure Auto ML\n",
      "\t AUC : 0.9993227376446444\n",
      "\t Accuracy : 0.9634718617426019\n",
      "\n",
      "\n",
      "RegressionRidge - version = 9\n",
      "\t area : Diabetes\n",
      "\t type : Regression Ridge\n",
      "\t k : 0.4\n",
      "\t MSE : 3295.741064355809\n",
      "\t R2 : 0.3572956390661659\n",
      "\t Framework : Azure ML\n",
      "\n",
      "\n",
      "noaaweatherds - version = 1\n",
      "\n",
      "\n",
      "Exemple4-AutoML-Forecast - version = 6\n",
      "\t Training context : Azure Auto ML\n",
      "\t R2 : 0.27268956675549244\n",
      "\t RMSE : 0.025273757999049212\n",
      "\n",
      "\n",
      "Exemple3-AutoML-Regression - version = 10\n",
      "\t Training context : Azure Auto ML\n",
      "\t R2 : 0.8609905269903366\n",
      "\t RMSE : 0.07272566334894777\n",
      "\n",
      "\n",
      "mybestmodel - version = 7\n",
      "\t Training context : Azure Auto ML\n",
      "\t AUC : 0.9993169930532767\n",
      "\t Accuracy : 0.9658275743456644\n",
      "\n",
      "\n",
      "RegressionRidge - version = 8\n",
      "\t area : Diabetes\n",
      "\t type : Regression Ridge\n",
      "\t k : 0.4\n",
      "\t MSE : 3295.741064355809\n",
      "\t R2 : 0.3572956390661659\n",
      "\t Framework : Azure ML\n",
      "\n",
      "\n",
      "IBM_attrition_explainer - version = 11\n",
      "\n",
      "\n",
      "local_deploy_model - version = 11\n",
      "\n",
      "\n",
      "boston_model.pkl - version = 15\n",
      "\t algo : Regression\n",
      "\t Training context : Azure ML\n",
      "\t Framework : scikit-learn\n",
      "\n",
      "\n",
      "Exemple10-Modele-TensorFlow - version = 17\n",
      "\t Framework : TensorFlow\n",
      "\t Hyperdrive : Oui\n",
      "\t GPU : Oui\n",
      "\n",
      "\n",
      "diabetes_model - version = 16\n",
      "\t Training context : Pipeline\n",
      "\n",
      "\n",
      "Modele-SKLEARN-Regression - version = 3\n",
      "\t area : diabetes\n",
      "\t type : regression\n",
      "\t format : Scikit-Learn pkl\n",
      "\n",
      "\n",
      "mybestmodel - version = 6\n",
      "\t Training context : Azure Auto ML\n",
      "\t AUC : 0.9993067801973444\n",
      "\t Accuracy : 0.962881891241127\n",
      "\n",
      "\n",
      "boston_model.pkl - version = 14\n",
      "\t algo : Regression\n",
      "\t Training context : Azure ML\n",
      "\t Framework : scikit-learn\n",
      "\n",
      "\n",
      "Exemple3-AutoML-Regression - version = 9\n",
      "\t Training context : Azure Auto ML\n",
      "\t R2 : 0.8267547975259869\n",
      "\t RMSE : 0.08250675651473231\n",
      "\n",
      "\n",
      "mybestmodel - version = 5\n",
      "\t Training context : Azure Auto ML\n",
      "\t AUC : 0.9993067801973444\n",
      "\t Accuracy : 0.962881891241127\n",
      "\n",
      "\n",
      "RegressionRidge - version = 7\n",
      "\t area : Diabetes\n",
      "\t type : Regression Ridge\n",
      "\t k : 0.4\n",
      "\t MSE : 3295.741064355809\n",
      "\t R2 : 0.3572956390661659\n",
      "\t Framework : Azure ML\n",
      "\n",
      "\n",
      "model_explain_model_on_amlcomp - version = 1\n",
      "\n",
      "\n",
      "IBM_attrition_explainer - version = 10\n",
      "\n",
      "\n",
      "local_deploy_model - version = 10\n",
      "\n",
      "\n",
      "IBM_attrition_explainer - version = 9\n",
      "\n",
      "\n",
      "local_deploy_model - version = 9\n",
      "\n",
      "\n",
      "Diabetes - version = 15\n",
      "\t Training context : Hyperdrive\n",
      "\t AUC : 0.8569106291712714\n",
      "\t Accuracy : 0.7902222222222223\n",
      "\n",
      "\n",
      "Exemple10-Modele-TensorFlow - version = 16\n",
      "\t Framework : TensorFlow\n",
      "\t Hyperdrive : Oui\n",
      "\t GPU : Oui\n",
      "\n",
      "\n",
      "Diabetes - version = 14\n",
      "\t Training context : Hyperdrive\n",
      "\t AUC : 0.8569106291712714\n",
      "\t Accuracy : 0.7902222222222223\n",
      "\n",
      "\n",
      "Exemple10-Modele-TensorFlow - version = 15\n",
      "\t Framework : TensorFlow\n",
      "\t Hyperdrive : Oui\n",
      "\t GPU : Oui\n",
      "\n",
      "\n",
      "diabetes_model - version = 15\n",
      "\t Training context : Pipeline\n",
      "\n",
      "\n",
      "Modele-SKLEARN-Regression - version = 2\n",
      "\t area : diabetes\n",
      "\t type : regression\n",
      "\t format : Scikit-Learn pkl\n",
      "\n",
      "\n",
      "Exemple4-AutoML-Forecast - version = 5\n",
      "\t Training context : Azure Auto ML\n",
      "\t R2 : 0.2102297702988311\n",
      "\t RMSE : 0.025719636958220327\n",
      "\n",
      "\n",
      "boston_model.pkl - version = 13\n",
      "\t algo : Regression\n",
      "\t Training context : Azure ML\n",
      "\t Framework : scikit-learn\n",
      "\n",
      "\n",
      "RegressionRidge - version = 6\n",
      "\t area : Diabetes\n",
      "\t type : Regression Ridge\n",
      "\t k : 0.4\n",
      "\t MSE : 3295.741064355809\n",
      "\t R2 : 0.3572956390661659\n",
      "\t Framework : Azure ML\n",
      "\n",
      "\n",
      "RegressionRidge - version = 5\n",
      "\t area : Diabetes\n",
      "\t type : Regression Ridge\n",
      "\t k : 0.4\n",
      "\t MSE : 3295.741064355809\n",
      "\t R2 : 0.3572956390661659\n",
      "\t Framework : Azure ML\n",
      "\n",
      "\n",
      "Exemple3-AutoML-Regression - version = 8\n",
      "\t Training context : Azure Auto ML\n",
      "\t R2 : 0.8267547975259869\n",
      "\t RMSE : 0.08250675651473231\n",
      "\n",
      "\n",
      "mybestmodel - version = 4\n",
      "\t Training context : Azure Auto ML\n",
      "\t AUC : 0.9993067801973444\n",
      "\t Accuracy : 0.962881891241127\n",
      "\n",
      "\n",
      "Diabetes - version = 13\n",
      "\t Training context : Hyperdrive\n",
      "\t AUC : 0.8569106291712714\n",
      "\t Accuracy : 0.7902222222222223\n",
      "\n",
      "\n",
      "Exemple10-Modele-TensorFlow - version = 14\n",
      "\t Framework : TensorFlow\n",
      "\t Hyperdrive : Oui\n",
      "\t GPU : Oui\n",
      "\n",
      "\n",
      "IBM_attrition_explainer - version = 8\n",
      "\n",
      "\n",
      "local_deploy_model - version = 8\n",
      "\n",
      "\n",
      "diabetes_model - version = 14\n",
      "\t Training context : Pipeline\n",
      "\n",
      "\n",
      "Modele-SKLEARN-Regression - version = 1\n",
      "\t area : diabetes\n",
      "\t type : regression\n",
      "\t format : Scikit-Learn pkl\n",
      "\n",
      "\n",
      "boston_model.pkl - version = 12\n",
      "\t algo : Regression\n",
      "\t Training context : Azure ML\n",
      "\t Framework : scikit-learn\n",
      "\n",
      "\n",
      "RegressionRidge - version = 4\n",
      "\t area : Diabetes\n",
      "\t type : Regression Ridge\n",
      "\t k : 0.3\n",
      "\t MSE : 3077.2\n",
      "\t Framework : Azure ML\n",
      "\n",
      "\n",
      "resnet50.4.accelonnx - version = 1\n",
      "\t parentModelName : resnet50\n",
      "\t parentModelFlavor : TF\n",
      "\t modelFlavor : AccelOnnx\n",
      "\t parentModelArtifactLocation : aml://artifact/LocalUpload/200430T125953-55db4332/resnet50\n",
      "\t convertModelLogLocation : aml://artifact/LocalUpload/119439fb2e6c41d39b0e5ecaa1e1bf77/conversion_log\n",
      "\t compileOptions_toolVersion : 1.0\n",
      "\t compileOptions_toolName : fpga\n",
      "\t compileOptions_input_node_names : Placeholder:0\n",
      "\t compileOptions_output_node_names : classifier/resnet_v1_50/predictions/Softmax:0\n",
      "\t compileOptions_require_fpga_conversion : True\n",
      "\t compileOptions_sourceModelFlavor : tf\n",
      "\t compileOptions_targetModelFlavor : accelonnx\n",
      "\t compileOptions_unpack : false\n",
      "\n",
      "\n",
      "resnet50 - version = 4\n",
      "\n",
      "\n",
      "RegressionRidge - version = 3\n",
      "\t area : Diabetes\n",
      "\t type : Regression Ridge\n",
      "\t k : 0.4\n",
      "\t MSE : 3295.74\n",
      "\t Framework : Azure ML\n",
      "\n",
      "\n",
      "RegressionRidge - version = 2\n",
      "\t area : Diabetes\n",
      "\t type : Regression Ridge\n",
      "\t k : 0.4\n",
      "\t MSE : 3295.74\n",
      "\t Framework : Azure ML\n",
      "\n",
      "\n",
      "RegressionRidge - version = 1\n",
      "\t area : Diabetes\n",
      "\t type : Regression Ridge\n",
      "\t k : 0.4\n",
      "\t MSE : 3295.74\n",
      "\t Framework : Azure ML\n",
      "\n",
      "\n",
      "resnet50 - version = 2\n",
      "\n",
      "\n",
      "ssdvgg.1.accelonnx - version = 1\n",
      "\t parentModelName : ssdvgg\n",
      "\t parentModelFlavor : TF\n",
      "\t modelFlavor : AccelOnnx\n",
      "\t parentModelArtifactLocation : aml://artifact/LocalUpload/200429T124534-4846cffe/saved_model\n",
      "\t convertModelLogLocation : aml://artifact/LocalUpload/ffaee3a06dba4e87a9ae84524cd868e7/conversion_log\n",
      "\t compileOptions_toolVersion : 1.0\n",
      "\t compileOptions_toolName : fpga\n",
      "\t compileOptions_input_node_names : Placeholder:0\n",
      "\t compileOptions_output_node_names : ssd_300_vgg/block4_box/Reshape_1:0,ssd_300_vgg/block7_box/Reshape_1:0,ssd_300_vgg/block8_box/Reshape_1:0,ssd_300_vgg/block9_box/Reshape_1:0,ssd_300_vgg/block10_box/Reshape_1:0,ssd_300_vgg/block11_box/Reshape_1:0,ssd_300_vgg/block4_box/Reshape:0,ssd_300_vgg/block7_box/Reshape:0,ssd_300_vgg/block8_box/Reshape:0,ssd_300_vgg/block9_box/Reshape:0,ssd_300_vgg/block10_box/Reshape:0,ssd_300_vgg/block11_box/Reshape:0\n",
      "\t compileOptions_require_fpga_conversion : True\n",
      "\t compileOptions_sourceModelFlavor : tf\n",
      "\t compileOptions_targetModelFlavor : accelonnx\n",
      "\t compileOptions_unpack : false\n",
      "\n",
      "\n",
      "ssdvgg - version = 1\n",
      "\n",
      "\n",
      "elevation-regression-model.pkl - version = 1\n",
      "\t area : weather\n",
      "\t type : linear regression\n",
      "\n",
      "\n",
      "MLTemplateAzure-master - version = 4\n",
      "\n",
      "\n",
      "MLTemplateAzure-master - version = 3\n",
      "\n",
      "\n",
      "MLTemplateAzure-master - version = 2\n",
      "\n",
      "\n",
      "MLTemplateAzure-master - version = 1\n",
      "\n",
      "\n",
      "diabetes_model - version = 13\n",
      "\t Training context : Pipeline\n",
      "\n",
      "\n",
      "diabetes_model - version = 12\n",
      "\t Training context : Pipeline\n",
      "\n",
      "\n",
      "diabetes_model - version = 11\n",
      "\t Training context : Pipeline\n",
      "\n",
      "\n",
      "Exemple10-Modele-TensorFlow - version = 13\n",
      "\t Framework : TensorFlow\n",
      "\t Hyperdrive : Oui\n",
      "\t GPU : Oui\n",
      "\n",
      "\n",
      "Exemple10-Modele-TensorFlow - version = 12\n",
      "\t Training context : TensorFlow Hyperdrive\n",
      "\t GPU : Oui\n",
      "\n",
      "\n",
      "Diabetes - version = 12\n",
      "\t Training context : Hyperdrive\n",
      "\t AUC : 0.8569106291712714\n",
      "\t Accuracy : 0.7902222222222223\n",
      "\n",
      "\n",
      "diabetes_model - version = 10\n",
      "\t Training context : Pipeline\n",
      "\n",
      "\n",
      "sklearn_regression_model.pkl - version = 14\n",
      "\t area : diabetes\n",
      "\t type : regression\n",
      "\t format : Scikit-Learn pkl\n",
      "\n",
      "\n",
      "diabetes_model - version = 9\n",
      "\t Training context : Pipeline\n",
      "\n",
      "\n",
      "boston_model.pkl - version = 11\n",
      "\t algo : Regression\n",
      "\t Training context : Azure ML\n",
      "\t Framework : scikit-learn\n",
      "\n",
      "\n",
      "mybestmodel - version = 3\n",
      "\t Training context : Azure Auto ML\n",
      "\t AUC : 0.9993193003206503\n",
      "\t Accuracy : 0.9658275743456644\n",
      "\n",
      "\n",
      "Exemple3-AutoML-Regression - version = 7\n",
      "\t Training context : Azure Auto ML\n",
      "\t R2 : 0.8736789106695474\n",
      "\t RMSE : 0.07225365701425089\n",
      "\n",
      "\n",
      "Exemple3-AutoML-Regression - version = 6\n",
      "\t Training context : Azure Auto ML\n",
      "\t R2 : 0.8736789106695474\n",
      "\t RMSE : 0.07225365701425089\n",
      "\n",
      "\n",
      "diabetes_model - version = 8\n",
      "\t Training context : Pipeline\n",
      "\n",
      "\n",
      "Exemple10-Modele-TensorFlow - version = 11\n",
      "\t Training context : TensorFlow GPU Hyperdrive\n",
      "\n",
      "\n",
      "IBM_attrition_explainer - version = 7\n",
      "\n",
      "\n",
      "local_deploy_model - version = 7\n",
      "\n",
      "\n",
      "Diabetes - version = 11\n",
      "\t Training context : Hyperdrive\n",
      "\t AUC : 0.8569106291712714\n",
      "\t Accuracy : 0.7902222222222223\n",
      "\n",
      "\n",
      "sklearn_regression_model.pkl - version = 13\n",
      "\t area : diabetes\n",
      "\t type : regression\n",
      "\t format : Scikit-Learn pkl\n",
      "\n",
      "\n",
      "sklearn_regression_model.pkl - version = 12\n",
      "\t area : diabetes\n",
      "\t type : regression\n",
      "\t format : Scikit-Learn pkl\n",
      "\n",
      "\n",
      "sklearn_regression_model.pkl - version = 11\n",
      "\t area : diabetes\n",
      "\t type : regression\n",
      "\t format : Scikit-Learn pkl\n",
      "\n",
      "\n",
      "sklearn_regression_model.pkl - version = 10\n",
      "\t area : diabetes\n",
      "\t type : regression\n",
      "\t format : Scikit-Learn pkl\n",
      "\n",
      "\n",
      "sklearn_regression_model.pkl - version = 9\n",
      "\t area : diabetes\n",
      "\t type : regression\n",
      "\t format : Scikit-Learn pkl\n",
      "\n",
      "\n",
      "sklearn_regression_model.pkl - version = 8\n",
      "\t area : diabetes\n",
      "\t type : regression\n",
      "\t format : Scikit-Learn pkl\n",
      "\n",
      "\n",
      "sklearn_regression_model.pkl - version = 7\n",
      "\t area : diabetes\n",
      "\t type : regression\n",
      "\n",
      "\n",
      "diabetes_model - version = 7\n",
      "\t Training context : Pipeline\n",
      "\n",
      "\n",
      "diabetes_model - version = 6\n",
      "\t Training context : Pipeline\n",
      "\n",
      "\n",
      "Exemple10-Modele-TensorFlow - version = 10\n",
      "\t Training context : TensorFlow GPU Hyperdrive\n",
      "\n",
      "\n",
      "Diabetes - version = 10\n",
      "\t Training context : Hyperdrive\n",
      "\t AUC : 0.8569106291712714\n",
      "\t Accuracy : 0.7902222222222223\n",
      "\n",
      "\n",
      "diabetes_model - version = 5\n",
      "\t Training context : Pipeline\n",
      "\n",
      "\n",
      "sklearn_regression_model.pkl - version = 6\n",
      "\t area : diabetes\n",
      "\t type : regression\n",
      "\n",
      "\n",
      "mybestmodel - version = 2\n",
      "\t Training context : Azure Auto ML\n",
      "\t AUC : 0.9994706712034915\n",
      "\t Accuracy : 0.9705396494881139\n",
      "\n",
      "\n",
      "mybestmodel - version = 1\n",
      "\t Training context : Azure Auto ML\n",
      "\t AUC : 0.9994706712034915\n",
      "\t Accuracy : 0.9705396494881139\n",
      "\n",
      "\n",
      "Exemple10-Modele-TensorFlow - version = 9\n",
      "\t Training context : TensorFlow GPU Hyperdrive\n",
      "\n",
      "\n",
      "Exemple10-Modele-TensorFlow - version = 8\n",
      "\t Training context : TensorFlow GPU Hyperdrive\n",
      "\n",
      "\n",
      "Exemple10-Modele-TensorFlow - version = 7\n",
      "\t Training context : TensorFlow GPU Hyperdrive\n",
      "\n",
      "\n",
      "Exemple10-Modele-TensorFlow - version = 6\n",
      "\t Training context : TensorFlow GPU\n",
      "\n",
      "\n",
      "Diabetes - version = 9\n",
      "\t Training context : Hyperdrive\n",
      "\t AUC : 0.8569106291712714\n",
      "\t Accuracy : 0.7902222222222223\n",
      "\n",
      "\n",
      "sklearn_regression_model.pkl - version = 5\n",
      "\t area : diabetes\n",
      "\t type : regression\n",
      "\n",
      "\n",
      "boston_model.pkl - version = 10\n",
      "\t algo : Regression\n",
      "\t Training context : Azure ML\n",
      "\t Framework : scikit-learn\n",
      "\n",
      "\n",
      "sklearn_regression_model.pkl - version = 4\n",
      "\t area : diabetes\n",
      "\t type : regression\n",
      "\n",
      "\n",
      "boston_model.pkl - version = 9\n",
      "\t algo : Regression\n",
      "\t Training context : Azure ML\n",
      "\t Framework : scikit-learn\n",
      "\n",
      "\n",
      "diabetes_model - version = 4\n",
      "\t Training context : Pipeline\n",
      "\n",
      "\n",
      "Diabetes - version = 8\n",
      "\t Training context : Hyperdrive\n",
      "\t AUC : 0.8569106291712714\n",
      "\t Accuracy : 0.7902222222222223\n",
      "\n",
      "\n",
      "diabetes_model - version = 3\n",
      "\t Training context : Pipeline\n",
      "\n",
      "\n",
      "Exemple10-Modele-TensorFlow - version = 5\n",
      "\t Training context : TensorFlow GPU\n",
      "\n",
      "\n",
      "sklearn_regression_model.pkl - version = 3\n",
      "\t area : diabetes\n",
      "\t type : regression\n",
      "\n",
      "\n",
      "IBM_attrition_explainer - version = 6\n",
      "\n",
      "\n",
      "local_deploy_model - version = 6\n",
      "\n",
      "\n",
      "boston_model.pkl - version = 8\n",
      "\t algo : Regression\n",
      "\t Training context : Azure ML\n",
      "\t Framework : scikit-learn\n",
      "\n",
      "\n",
      "Exemple4-AutoML-Forecast - version = 4\n",
      "\t Training context : Azure Auto ML\n",
      "\t R2 : 0.2102297702988311\n",
      "\t RMSE : 0.025719636958220327\n",
      "\n",
      "\n",
      "Exemple3-AutoML-Regression - version = 5\n",
      "\t Training context : Azure Auto ML\n",
      "\t R2 : 0.8846871539563971\n",
      "\t RMSE : 0.0687685685144201\n",
      "\n",
      "\n",
      "Exemple2-AutoML-Classif - version = 4\n",
      "\t Training context : Azure Auto ML\n",
      "\t AUC : 0.9995378939750003\n",
      "\t Accuracy : 0.9728977962866562\n",
      "\n",
      "\n",
      "Exemple10-Modele-TensorFlow - version = 4\n",
      "\t Training context : TensorFlow GPU\n",
      "\n",
      "\n",
      "Diabetes - version = 7\n",
      "\t Training context : Hyperdrive\n",
      "\t AUC : 0.8569106291712714\n",
      "\t Accuracy : 0.7902222222222223\n",
      "\n",
      "\n",
      "IBM_attrition_explainer - version = 5\n",
      "\n",
      "\n",
      "local_deploy_model - version = 5\n",
      "\n",
      "\n",
      "Exemple4-AutoML-Forecast - version = 3\n",
      "\t Training context : Azure Auto ML\n",
      "\t R2 : 0.36960142200884405\n",
      "\t RMSE : 0.02304059602768627\n",
      "\n",
      "\n",
      "Exemple3-AutoML-Regression - version = 4\n",
      "\t Training context : Azure Auto ML\n",
      "\t R2 : 0.8823064055329451\n",
      "\t RMSE : 0.06954349242467574\n",
      "\n",
      "\n",
      "Exemple2-AutoML-Classif - version = 3\n",
      "\t Training context : Azure Auto ML\n",
      "\t AUC : 0.9995067640229488\n",
      "\t Accuracy : 0.972896061079299\n",
      "\n",
      "\n",
      "Diabetes - version = 6\n",
      "\t Training context : Hyperdrive\n",
      "\t AUC : 0.8569106291712714\n",
      "\t Accuracy : 0.7902222222222223\n",
      "\n",
      "\n",
      "Diabetes - version = 5\n",
      "\t Training context : Hyperdrive\n",
      "\t AUC : 0.8569106291712714\n",
      "\t Accuracy : 0.7902222222222223\n",
      "\n",
      "\n",
      "boston_model.pkl - version = 7\n",
      "\t algo : Regression\n",
      "\t Training context : Azure ML\n",
      "\t Framework : scikit-learn\n",
      "\n",
      "\n",
      "boston_model.pkl - version = 6\n",
      "\t algo : Regression\n",
      "\t Training context : Azure ML\n",
      "\t Framework : scikit-learn\n",
      "\n",
      "\n",
      "boston_model.pkl - version = 5\n",
      "\t algo : Regression\n",
      "\t type : sklearn\n",
      "\n",
      "\n",
      "boston_model.pkl - version = 4\n",
      "\t algo : Regression\n",
      "\t type : sklearn\n",
      "\n",
      "\n",
      "Diabetes - version = 4\n",
      "\t Training context : Hyperdrive\n",
      "\t AUC : 0.8569106291712714\n",
      "\t Accuracy : 0.7902222222222223\n",
      "\n",
      "\n",
      "Diabetes - version = 3\n",
      "\t Training context : Hyperdrive\n",
      "\t AUC : 0.8569106291712714\n",
      "\t Accuracy : 0.7902222222222223\n",
      "\n",
      "\n",
      "Diabetes - version = 2\n",
      "\t Training context : Hyperdrive\n",
      "\t AUC : 0.8569106291712714\n",
      "\t Accuracy : 0.7902222222222223\n",
      "\n",
      "\n",
      "Diabetes - version = 1\n",
      "\t Training context : Hyperdrive\n",
      "\t AUC : 0.8569106291712714\n",
      "\t Accuracy : 0.7902222222222223\n",
      "\n",
      "\n",
      "Exemple10-Modele-TensorFlow - version = 3\n",
      "\t Training context : TensorFlow GPU\n",
      "\n",
      "\n",
      "Exemple10-Modele-TensorFlow - version = 2\n",
      "\t Training context : TensorFlow GPU\n",
      "\n",
      "\n",
      "sklearn_regression_model.pkl - version = 2\n",
      "\t area : diabetes\n",
      "\t type : regression\n",
      "\n",
      "\n",
      "IBM_attrition_explainer - version = 4\n",
      "\n",
      "\n",
      "local_deploy_model - version = 4\n",
      "\n",
      "\n",
      "Exemple10-Modele-TensorFlow - version = 1\n",
      "\t Training context : TensorFlow GPU\n",
      "\n",
      "\n",
      "sklearn_regression_model.pkl - version = 1\n",
      "\t area : diabetes\n"
     ]
    },
    {
     "name": "stdout",
     "output_type": "stream",
     "text": [
      "\t type : regression\n",
      "\n",
      "\n",
      "diabetes_model - version = 2\n",
      "\t Training context : Pipeline\n",
      "\n",
      "\n",
      "Exemple4-AutoML-Forecast - version = 2\n",
      "\t Training context : Azure Auto ML\n",
      "\t R2 : 0.2102297702988311\n",
      "\t RMSE : 0.025719636958220327\n",
      "\n",
      "\n",
      "boston_model.pkl - version = 3\n",
      "\t algo : Regression\n",
      "\t type : sklearn\n",
      "\n",
      "\n",
      "Exemple3-AutoML-Regression - version = 3\n",
      "\t Training context : Azure Auto ML\n",
      "\t R2 : 0.8823064055329451\n",
      "\t RMSE : 0.06954349242467574\n",
      "\n",
      "\n",
      "Exemple3-AutoML-Regression - version = 2\n",
      "\t Training context : Azure Auto ML\n",
      "\t R2 : 0.8823064055329451\n",
      "\t RMSE : 0.06954349242467574\n",
      "\n",
      "\n",
      "IBM_attrition_explainer - version = 3\n",
      "\n",
      "\n",
      "local_deploy_model - version = 3\n",
      "\n",
      "\n",
      "Exemple2-AutoML-Classif - version = 2\n",
      "\t Training context : Azure Auto ML\n",
      "\t AUC : 0.9994894633959408\n",
      "\t Accuracy : 0.972896061079299\n",
      "\n",
      "\n",
      "IBM_attrition_explainer - version = 2\n",
      "\n",
      "\n",
      "local_deploy_model - version = 2\n",
      "\n",
      "\n",
      "diabetes_model - version = 1\n",
      "\t Training context : Pipeline\n",
      "\n",
      "\n",
      "IBM_attrition_explainer - version = 1\n",
      "\n",
      "\n",
      "local_deploy_model - version = 1\n",
      "\n",
      "\n",
      "boston_model.pkl - version = 2\n",
      "\t algo : Regression\n",
      "\t type : sklearn\n",
      "\n",
      "\n",
      "boston_model.pkl - version = 1\n",
      "\t algo : Regression\n",
      "\t type : sklearn\n",
      "\n",
      "\n",
      "Exemple4-AutoML-Forecast - version = 1\n",
      "\t Training context : Azure Auto ML\n",
      "\t R2 : 0.2102297702988311\n",
      "\t RMSE : 0.025719636958220327\n",
      "\n",
      "\n",
      "Exemple3-AutoML-Regression - version = 1\n",
      "\t Training context : Azure Auto ML\n",
      "\t R2 : 0.8823064055329451\n",
      "\t RMSE : 0.06954349242467574\n",
      "\n",
      "\n",
      "Exemple2-AutoML-Classif - version = 1\n",
      "\t Training context : Azure Auto ML\n",
      "\t AUC : 0.9992547179382384\n",
      "\t Accuracy : 0.9646507603948424\n",
      "\n",
      "\n"
     ]
    }
   ],
   "source": [
    "from azureml.core import Model\n",
    "\n",
    "for model in Model.list(ws):\n",
    "    print(model.name, '- version =', model.version)\n",
    "    for tag_name in model.tags:\n",
    "        tag = model.tags[tag_name]\n",
    "        print ('\\t',tag_name, ':', tag)\n",
    "    for prop_name in model.properties:\n",
    "        prop = model.properties[prop_name]\n",
    "        print ('\\t',prop_name, ':', prop)\n",
    "    print('\\n')"
   ]
  },
  {
   "cell_type": "markdown",
   "metadata": {},
   "source": [
    "## 4. Déploiement Azure Container Instance (ACI)"
   ]
  },
  {
   "cell_type": "markdown",
   "metadata": {},
   "source": [
    "### 4.1 Création du scoring file"
   ]
  },
  {
   "cell_type": "code",
   "execution_count": 23,
   "metadata": {},
   "outputs": [
    {
     "name": "stdout",
     "output_type": "stream",
     "text": [
      "Overwriting scoreboston.py\n"
     ]
    }
   ],
   "source": [
    "%%writefile scoreboston.py\n",
    "import pickle\n",
    "import json\n",
    "import numpy as np\n",
    "from sklearn.externals import joblib\n",
    "from sklearn.linear_model import LinearRegression\n",
    "from azureml.core.model import Model\n",
    "\n",
    "from inference_schema.schema_decorators import input_schema, output_schema\n",
    "from inference_schema.parameter_types.numpy_parameter_type import NumpyParameterType\n",
    "\n",
    "def init():\n",
    "    global model\n",
    "    # note here \"sklearn_regression_model.pkl\" is the name of the model registered under\n",
    "    # this is a different behavior than before when the code is run locally, even though the code is the same.\n",
    "    model_path = Model.get_model_path('boston_model.pkl')\n",
    "    # deserialize the model file back into a sklearn model\n",
    "    model = joblib.load(model_path)\n",
    "\n",
    "input_sample = np.array([[0.00632, 18.0, 2.31, 0.0, 0.538, 6.575, 65.2, 4.09, 1.0, 296.0, 15.3, 396.9, 4.98]])\n",
    "output_sample = np.array([3726.995])\n",
    "\n",
    "@input_schema('data', NumpyParameterType(input_sample))\n",
    "@output_schema(NumpyParameterType(output_sample))\n",
    "def run(data):\n",
    "    try:\n",
    "        result = model.predict(data)\n",
    "        # you can return any datatype as long as it is JSON-serializable\n",
    "        return result.tolist()[0]\n",
    "    except Exception as e:\n",
    "        error = str(e)\n",
    "        return error"
   ]
  },
  {
   "cell_type": "code",
   "execution_count": 24,
   "metadata": {},
   "outputs": [
    {
     "name": "stdout",
     "output_type": "stream",
     "text": [
      "-rwxrwxrwx 1 root root 1208 Jun  1 08:34 \u001b[0m\u001b[01;32mscoreboston.py\u001b[0m*\r\n"
     ]
    }
   ],
   "source": [
    "%ls scoreboston.py -l"
   ]
  },
  {
   "cell_type": "markdown",
   "metadata": {},
   "source": [
    "### 4.2 Fichier environnement"
   ]
  },
  {
   "cell_type": "code",
   "execution_count": 25,
   "metadata": {},
   "outputs": [
    {
     "name": "stdout",
     "output_type": "stream",
     "text": [
      "Overwriting myenvboston.yml\n"
     ]
    }
   ],
   "source": [
    "%%writefile myenvboston.yml\n",
    "name: project_environment\n",
    "dependencies:\n",
    "  - python=3.6.9\n",
    "  - pip:\n",
    "    - azureml-defaults\n",
    "    - scikit-learn\n",
    "    - numpy\n",
    "    - inference-schema[numpy-support]"
   ]
  },
  {
   "cell_type": "code",
   "execution_count": 26,
   "metadata": {},
   "outputs": [
    {
     "name": "stdout",
     "output_type": "stream",
     "text": [
      "name: project_environment\n",
      "dependencies:\n",
      "  - python=3.6.9\n",
      "  - pip:\n",
      "    - azureml-defaults\n",
      "    - scikit-learn\n",
      "    - numpy\n",
      "    - inference-schema[numpy-support]\n",
      "\n"
     ]
    }
   ],
   "source": [
    "#Viewing the yml file\n",
    "with open(os.path.join('./myenvboston.yml'), 'r') as f:\n",
    "    print(f.read())"
   ]
  },
  {
   "cell_type": "code",
   "execution_count": 27,
   "metadata": {},
   "outputs": [
    {
     "name": "stdout",
     "output_type": "stream",
     "text": [
      "-rwxrwxrwx 1 root root 158 Jun  1 08:34 \u001b[0m\u001b[01;32mmyenvboston.yml\u001b[0m*\r\n"
     ]
    }
   ],
   "source": [
    "%ls myenvboston.yml -l"
   ]
  },
  {
   "cell_type": "markdown",
   "metadata": {},
   "source": [
    "### 4.3 Déploiement du modèle\n",
    "> Prévoir 3 minutes de temps de traitement"
   ]
  },
  {
   "cell_type": "markdown",
   "metadata": {},
   "source": [
    "Documentation : https://docs.microsoft.com/fr-fr/azure/machine-learning/how-to-deploy-azure-container-instance"
   ]
  },
  {
   "cell_type": "code",
   "execution_count": 28,
   "metadata": {},
   "outputs": [],
   "source": [
    "env = Environment.from_conda_specification(name='deploytocloudenv', file_path='myenvboston.yml')\n",
    "inference_config = InferenceConfig(entry_script=\"scoreboston.py\", environment=env)"
   ]
  },
  {
   "cell_type": "code",
   "execution_count": 29,
   "metadata": {},
   "outputs": [
    {
     "name": "stdout",
     "output_type": "stream",
     "text": [
      "Running......................................\n",
      "Succeeded\n",
      "ACI service creation operation finished, operation \"Succeeded\"\n",
      "Healthy\n",
      "CPU times: user 333 ms, sys: 76 ms, total: 409 ms\n",
      "Wall time: 3min 49s\n"
     ]
    }
   ],
   "source": [
    "%%time\n",
    "from azureml.core.webservice import AciWebservice, Webservice\n",
    "from azureml.exceptions import WebserviceException\n",
    "\n",
    "deployment_config = AciWebservice.deploy_configuration(cpu_cores=1, \n",
    "                                                       memory_gb=1,\n",
    "                                                       auth_enabled=False,\n",
    "                                                       ssl_enabled=False,\n",
    "                                                       enable_app_insights=True)\n",
    "\n",
    "aci_service_name = 'bostonprice'\n",
    "\n",
    "try:\n",
    "    service = Webservice(ws, name=aci_service_name)\n",
    "    if service:\n",
    "        service.delete()\n",
    "except WebserviceException as e:\n",
    "    print()\n",
    "\n",
    "service = Model.deploy(ws, aci_service_name, [registered_trained_model], inference_config, deployment_config)\n",
    "\n",
    "service.wait_for_deployment(True)\n",
    "print(service.state)"
   ]
  },
  {
   "cell_type": "markdown",
   "metadata": {},
   "source": [
    "> Le endpoint est visible depuis **Azure ML Studio**. <br>\n",
    "Nous pouvons également visualiser le container créé dans les **resources ACI** du portail Azure."
   ]
  },
  {
   "cell_type": "code",
   "execution_count": 30,
   "metadata": {},
   "outputs": [
    {
     "name": "stdout",
     "output_type": "stream",
     "text": [
      "Informations du modèle déployé en ACI :\n",
      " - Endpoint : http://5b5a5a42-1fb9-4733-acf0-f9f87a07487e.westeurope.azurecontainer.io/score\n",
      " - Statut : Healthy\n",
      " - Swagger : http://5b5a5a42-1fb9-4733-acf0-f9f87a07487e.westeurope.azurecontainer.io/swagger.json\n"
     ]
    }
   ],
   "source": [
    "print(\"Informations du modèle déployé en ACI :\")\n",
    "print(\" - Endpoint :\", service.scoring_uri)\n",
    "print(\" - Statut :\", service.state)\n",
    "print(\" - Swagger :\", service.swagger_uri)"
   ]
  },
  {
   "cell_type": "code",
   "execution_count": 31,
   "metadata": {},
   "outputs": [
    {
     "name": "stdout",
     "output_type": "stream",
     "text": [
      "Modèles déployés avec Azure ML :\n",
      "bostonprice\n",
      "bostonprice-aci\n",
      "modele-exemple12-aks\n",
      "my-aks-service-1\n",
      "drift-aks-service\n"
     ]
    }
   ],
   "source": [
    "print(\"Modèles déployés avec Azure ML :\")\n",
    "for webservice_name in ws.webservices:\n",
    "    print(webservice_name)"
   ]
  },
  {
   "cell_type": "code",
   "execution_count": 32,
   "metadata": {},
   "outputs": [],
   "source": [
    "#print(\"Logs :\")\n",
    "#print(service.get_logs())"
   ]
  },
  {
   "cell_type": "markdown",
   "metadata": {},
   "source": [
    "## 5. Test du modèle déployé"
   ]
  },
  {
   "cell_type": "markdown",
   "metadata": {},
   "source": [
    "> Documentation : https://docs.microsoft.com/fr-fr/azure/machine-learning/how-to-consume-web-service"
   ]
  },
  {
   "cell_type": "code",
   "execution_count": 33,
   "metadata": {},
   "outputs": [
    {
     "name": "stdout",
     "output_type": "stream",
     "text": [
      "Voici le scoring endpoint:  http://5b5a5a42-1fb9-4733-acf0-f9f87a07487e.westeurope.azurecontainer.io/score\n"
     ]
    }
   ],
   "source": [
    "print(\"Voici le scoring endpoint: \", service.scoring_uri)"
   ]
  },
  {
   "cell_type": "markdown",
   "metadata": {},
   "source": [
    "### 5.1 Premier test"
   ]
  },
  {
   "cell_type": "code",
   "execution_count": 34,
   "metadata": {},
   "outputs": [],
   "source": [
    "import json\n",
    "test1 = json.dumps({'data': [\n",
    "    [0.00632,18.0,2.31,0.0,0.538,6.575,65.2,4.0900,1.0,296.0,15.3,396.90,4.98]]})"
   ]
  },
  {
   "cell_type": "code",
   "execution_count": 35,
   "metadata": {},
   "outputs": [
    {
     "data": {
      "text/plain": [
       "'{\"data\": [[0.00632, 18.0, 2.31, 0.0, 0.538, 6.575, 65.2, 4.09, 1.0, 296.0, 15.3, 396.9, 4.98]]}'"
      ]
     },
     "execution_count": 35,
     "metadata": {},
     "output_type": "execute_result"
    }
   ],
   "source": [
    "test1"
   ]
  },
  {
   "cell_type": "code",
   "execution_count": 36,
   "metadata": {},
   "outputs": [
    {
     "name": "stdout",
     "output_type": "stream",
     "text": [
      "CPU times: user 4 µs, sys: 1 µs, total: 5 µs\n",
      "Wall time: 8.58 µs\n",
      "Données en entrée : \n",
      "b'{\"data\": [[0.00632, 18.0, 2.31, 0.0, 0.538, 6.575, 65.2, 4.09, 1.0, 296.0, 15.3, 396.9, 4.98]]}'\n",
      "\n",
      "=> Prédiction =  30.13748\n"
     ]
    }
   ],
   "source": [
    "%time\n",
    "test1encode = bytes(test1, encoding='utf8')\n",
    "\n",
    "print(\"Données en entrée : \")\n",
    "print(test1encode)\n",
    "prediction1 = service.run(test1encode)\n",
    "print()\n",
    "print(\"=> Prédiction = \", round(prediction1, 5))"
   ]
  },
  {
   "cell_type": "markdown",
   "metadata": {},
   "source": [
    "### 5.2 Second test"
   ]
  },
  {
   "cell_type": "code",
   "execution_count": 37,
   "metadata": {},
   "outputs": [],
   "source": [
    "import json\n",
    "test2 = json.dumps({'data': [\n",
    "    [0.00432,18.0,1.1,0.12,0.422,6.75,65.2,4.0900,1.0,296.0,16.3,496.90,6.8]]})"
   ]
  },
  {
   "cell_type": "code",
   "execution_count": 38,
   "metadata": {},
   "outputs": [
    {
     "data": {
      "text/plain": [
       "'{\"data\": [[0.00432, 18.0, 1.1, 0.12, 0.422, 6.75, 65.2, 4.09, 1.0, 296.0, 16.3, 496.9, 6.8]]}'"
      ]
     },
     "execution_count": 38,
     "metadata": {},
     "output_type": "execute_result"
    }
   ],
   "source": [
    "test2"
   ]
  },
  {
   "cell_type": "code",
   "execution_count": 39,
   "metadata": {},
   "outputs": [
    {
     "name": "stdout",
     "output_type": "stream",
     "text": [
      "CPU times: user 4 µs, sys: 1 µs, total: 5 µs\n",
      "Wall time: 7.63 µs\n",
      "Données en entrée : \n",
      "b'{\"data\": [[0.00432, 18.0, 1.1, 0.12, 0.422, 6.75, 65.2, 4.09, 1.0, 296.0, 16.3, 496.9, 6.8]]}'\n",
      "\n",
      "=> Prédiction =  31.82161\n"
     ]
    }
   ],
   "source": [
    "%time\n",
    "test2encode = bytes(test2, encoding='utf8')\n",
    "\n",
    "print(\"Données en entrée : \")\n",
    "print(test2encode)\n",
    "prediction2 = service.run(input_data=test2encode)\n",
    "print()\n",
    "print(\"=> Prédiction = \", round(prediction2, 5))"
   ]
  },
  {
   "cell_type": "markdown",
   "metadata": {},
   "source": [
    "## 6. Test avec Postman\n",
    "\n",
    "https://www.postman.com"
   ]
  },
  {
   "cell_type": "markdown",
   "metadata": {},
   "source": [
    "### Paramétrage Postman\n",
    "1. Post : endpoint\n",
    "2. Content-Type : application/json\n",
    "3. A spécifier dans le Body :"
   ]
  },
  {
   "cell_type": "raw",
   "metadata": {},
   "source": [
    "{\n",
    "\"columns\":[0,1,2,3,4,5,6,7,8,9],\n",
    "\"index\":[0],\n",
    "\"data\":[[0.00432,18.0,1.1,0.12,0.422,6.75,65.2,4.0900,1.0,296.0,26.3,496.90,12]]\n",
    "}"
   ]
  },
  {
   "cell_type": "markdown",
   "metadata": {},
   "source": [
    "<img src=\"https://github.com/retkowsky/images/blob/master/postman1.jpg?raw=true\">"
   ]
  },
  {
   "cell_type": "markdown",
   "metadata": {},
   "source": [
    "## 7. Télémétrie\n",
    "> Aller ensuite dans **AppInsights** dans le ressource group Azure ML. Bouton **Logs** pour voir les traces."
   ]
  },
  {
   "cell_type": "markdown",
   "metadata": {},
   "source": [
    "<img src=\"https://github.com/retkowsky/images/blob/master/appinsightsaml.jpg?raw=true\">"
   ]
  },
  {
   "cell_type": "code",
   "execution_count": null,
   "metadata": {},
   "outputs": [],
   "source": [
    "# Pour supprimer le service\n",
    "#service.delete()"
   ]
  },
  {
   "cell_type": "markdown",
   "metadata": {},
   "source": [
    "<img src=\"https://github.com/retkowsky/images/blob/master/Powered-by-MS-Azure-logo-v2.png?raw=true\" height=\"300\" width=\"300\">"
   ]
  }
 ],
 "metadata": {
  "kernelspec": {
   "display_name": "Python 3.6 - AzureML",
   "language": "python",
   "name": "python3-azureml"
  },
  "language_info": {
   "codemirror_mode": {
    "name": "ipython",
    "version": 3
   },
   "file_extension": ".py",
   "mimetype": "text/x-python",
   "name": "python",
   "nbconvert_exporter": "python",
   "pygments_lexer": "ipython3",
   "version": "3.6.9"
  }
 },
 "nbformat": 4,
 "nbformat_minor": 2
}
