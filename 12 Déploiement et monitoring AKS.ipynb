{
 "cells": [
  {
   "cell_type": "markdown",
   "metadata": {},
   "source": [
    "# Déploiement Azure Kubernetes Service (AKS)"
   ]
  },
  {
   "cell_type": "markdown",
   "metadata": {},
   "source": [
    "<img src='https://github.com/retkowsky/images/blob/master/AzureMLservicebanniere.png?raw=true'>"
   ]
  },
  {
   "cell_type": "markdown",
   "metadata": {},
   "source": [
    "Le service complètement managé **Azure Kubernetes Service (AKS)** facilite le déploiement et la gestion d'applications conteneurisées. <br>\n",
    "Il offre une **expérience d'intégration continue et de livraison continue (CI/CD) Kubernetes serverless**, ainsi qu'une **sécurité et une gouvernance de classe Entreprise**. <br>\n",
    "Réunissez vos équipes dédiées aux déploiements et aux opérations sur une même plateforme pour rapidement créer, livrer et mettre à l'échelle des applications en toute confiance.\n",
    "\n",
    "Azure Kubernetes Service est idéal pour les déploiements de production à grande échelle. Utilisez Azure Kubernetes Service si vous avez besoin d’une ou de plusieurs des fonctionnalités suivantes :\n",
    "- Temps de réponse rapide.\n",
    "- Mise à l’échelle automatique du service déployé.\n",
    "- Options d’accélération matérielle, telles que le GPU et les FPGA (Field-Programmable Gate Array)."
   ]
  },
  {
   "cell_type": "markdown",
   "metadata": {},
   "source": [
    "Documentation : https://azure.microsoft.com/fr-fr/services/kubernetes-service/<br>\n",
    "Checklist AKS :\n",
    "https://www.the-aks-checklist.com/<br>\n",
    "<br>\n",
    "> Informations sur le déploiement des modèles en AKS : https://docs.microsoft.com/fr-fr/azure/machine-learning/how-to-deploy-azure-kubernetes-service"
   ]
  },
  {
   "cell_type": "markdown",
   "metadata": {},
   "source": [
    "### Architecture\n",
    "\n",
    "<img src=\"https://docs.microsoft.com/fr-fr/azure/architecture/reference-architectures/ai/_images/python-model-architecture.png\">"
   ]
  },
  {
   "cell_type": "markdown",
   "metadata": {},
   "source": [
    "## 1. Infos"
   ]
  },
  {
   "cell_type": "code",
   "execution_count": 1,
   "metadata": {},
   "outputs": [
    {
     "name": "stdout",
     "output_type": "stream",
     "text": [
      "Version Azure ML : 1.6.0\n"
     ]
    }
   ],
   "source": [
    "from azureml.core import Workspace\n",
    "from azureml.core.compute import AksCompute, ComputeTarget\n",
    "from azureml.core.webservice import AksWebservice\n",
    "import azureml.core\n",
    "import json\n",
    "\n",
    "print('Version Azure ML :', azureml.core.VERSION)"
   ]
  },
  {
   "cell_type": "code",
   "execution_count": 2,
   "metadata": {},
   "outputs": [
    {
     "name": "stdout",
     "output_type": "stream",
     "text": [
      "2020-06-01 08:40:48.813004\n"
     ]
    }
   ],
   "source": [
    "import datetime\n",
    "now = datetime.datetime.now()\n",
    "print(now)"
   ]
  },
  {
   "cell_type": "markdown",
   "metadata": {},
   "source": [
    "## 2. Workspace\n"
   ]
  },
  {
   "cell_type": "code",
   "execution_count": 3,
   "metadata": {},
   "outputs": [
    {
     "name": "stdout",
     "output_type": "stream",
     "text": [
      "workshopAML2020\n",
      "workshopAML2020-rg\n",
      "westeurope\n",
      "70b8f39e-8863-49f7-b6ba-34a80799550c\n"
     ]
    }
   ],
   "source": [
    "ws = Workspace.from_config()\n",
    "print(ws.name, ws.resource_group, ws.location, ws.subscription_id, sep = '\\n')"
   ]
  },
  {
   "cell_type": "markdown",
   "metadata": {},
   "source": [
    "## 3. Enregistrement du modèle de ML"
   ]
  },
  {
   "cell_type": "code",
   "execution_count": 4,
   "metadata": {},
   "outputs": [
    {
     "name": "stdout",
     "output_type": "stream",
     "text": [
      "Registering model Modele-SKLEARN-Regression\n",
      "\n",
      "Nom du modèle : Modele-SKLEARN-Regression\n",
      "Description : Modèle DIABETE régression Ridge\n",
      "Version du modèle : 4\n"
     ]
    }
   ],
   "source": [
    "#Register the model\n",
    "from azureml.core.model import Model\n",
    "model = Model.register(model_path = \"sklearn_regression_model.pkl\", # Nom du fichier local\n",
    "                       model_name = \"Modele-SKLEARN-Regression\", # Nom du fichier référencé dans Azure ML\n",
    "                       tags = {'area': \"diabetes\", 'type': \"regression\", 'format': \"Scikit-Learn pkl\"},\n",
    "                       description = \"Modèle DIABETE régression Ridge\",\n",
    "                       workspace = ws)\n",
    "print()\n",
    "print(\"Nom du modèle :\", model.name)\n",
    "print(\"Description :\", model.description)\n",
    "print(\"Version du modèle :\", model.version)"
   ]
  },
  {
   "cell_type": "markdown",
   "metadata": {},
   "source": [
    "## 4. Scoring File"
   ]
  },
  {
   "cell_type": "code",
   "execution_count": 5,
   "metadata": {},
   "outputs": [
    {
     "name": "stdout",
     "output_type": "stream",
     "text": [
      "Overwriting score.py\n"
     ]
    }
   ],
   "source": [
    "%%writefile score.py\n",
    "import os\n",
    "import pickle\n",
    "import json\n",
    "import numpy \n",
    "from sklearn.externals import joblib\n",
    "from sklearn.linear_model import Ridge\n",
    "import time\n",
    "\n",
    "from inference_schema.schema_decorators import input_schema, output_schema\n",
    "from inference_schema.parameter_types.numpy_parameter_type import NumpyParameterType\n",
    "\n",
    "def init():\n",
    "    global model\n",
    "    #Print statement for appinsights custom traces:\n",
    "    print (\"model initialized\" + time.strftime(\"%H:%M:%S\"))\n",
    "    \n",
    "    # AZUREML_MODEL_DIR is an environment variable created during deployment.\n",
    "    # It is the path to the model folder (./azureml-models/$MODEL_NAME/$VERSION)\n",
    "    # For multiple models, it points to the folder containing all deployed models (./azureml-models)\n",
    "    model_path = os.path.join(os.getenv('AZUREML_MODEL_DIR'), 'sklearn_regression_model.pkl')\n",
    "    \n",
    "    # deserialize the model file back into a sklearn model\n",
    "    model = joblib.load(model_path)\n",
    "  \n",
    "\n",
    "# note you can pass in multiple rows for scoring\n",
    "def run(raw_data):\n",
    "    try:\n",
    "        data = json.loads(raw_data)['data']\n",
    "        data = numpy.array(data)\n",
    "        result = model.predict(data)\n",
    "        print (\"Prediction created\" + time.strftime(\"%H:%M:%S\"))\n",
    "        # you can return any datatype as long as it is JSON-serializable\n",
    "        return result.tolist()\n",
    "    except Exception as e:\n",
    "        error = str(e)\n",
    "        print (error + time.strftime(\"%H:%M:%S\"))\n",
    "        return error"
   ]
  },
  {
   "cell_type": "markdown",
   "metadata": {},
   "source": [
    "## 5. Création du fichier d'environnement YAML"
   ]
  },
  {
   "cell_type": "markdown",
   "metadata": {},
   "source": [
    "Lister les prérequis avec éventuellement les versions nécessaires."
   ]
  },
  {
   "cell_type": "code",
   "execution_count": 6,
   "metadata": {},
   "outputs": [],
   "source": [
    "from azureml.core.conda_dependencies import CondaDependencies \n",
    "\n",
    "myenv = CondaDependencies.create(conda_packages=['numpy','scikit-learn==0.20.0'],\n",
    "                                 pip_packages=['azureml-defaults>=1.0.45', 'inference-schema[numpy-support]']\n",
    "                                )"
   ]
  },
  {
   "cell_type": "code",
   "execution_count": 7,
   "metadata": {},
   "outputs": [],
   "source": [
    "with open(\"myenv.yml\",\"w\") as f:\n",
    "    f.write(myenv.serialize_to_string())"
   ]
  },
  {
   "cell_type": "markdown",
   "metadata": {},
   "source": [
    "## 6. Création de la configuration d'inférence"
   ]
  },
  {
   "cell_type": "code",
   "execution_count": 8,
   "metadata": {},
   "outputs": [],
   "source": [
    "from azureml.core.model import InferenceConfig\n",
    "from azureml.core.environment import Environment\n",
    "\n",
    "myenv = Environment.from_conda_specification(name=\"myenv\", file_path=\"myenv.yml\")\n",
    "inference_config = InferenceConfig(entry_script=\"score.py\", environment=myenv)"
   ]
  },
  {
   "cell_type": "markdown",
   "metadata": {},
   "source": [
    "## 7. Création et déploiement Azure Kubernetes Service (AKS)"
   ]
  },
  {
   "cell_type": "markdown",
   "metadata": {},
   "source": [
    "La création ou l’attachement d’un cluster AKS est un processus à effectuer une seule fois pour votre espace de travail. Vous pouvez le réutiliser pour vos autres déploiements. Si vous supprimez le cluster ou le groupe de ressources dans lequel il se trouve, vous devrez recréer un cluster lors du prochain déploiement. Vous pouvez avoir plusieurs clusters AKS attachés à votre espace de travail."
   ]
  },
  {
   "cell_type": "code",
   "execution_count": 9,
   "metadata": {},
   "outputs": [],
   "source": [
    "# Configuration par défaut\n",
    "prov_config = AksCompute.provisioning_configuration()\n",
    "\n",
    "aks_name = 'instance-aks' #Nom de l'instance AKS à crééer\n",
    "\n",
    "# Création du cluster AKS\n",
    "aks_target = ComputeTarget.create(workspace = ws, \n",
    "                                  name = aks_name, \n",
    "                                  provisioning_configuration = prov_config)"
   ]
  },
  {
   "cell_type": "code",
   "execution_count": 10,
   "metadata": {},
   "outputs": [
    {
     "name": "stdout",
     "output_type": "stream",
     "text": [
      "Creating...........................................................................................................................\n",
      "SucceededProvisioning operation finished, operation \"Succeeded\"\n",
      "CPU times: user 797 ms, sys: 106 ms, total: 903 ms\n",
      "Wall time: 10min 40s\n"
     ]
    }
   ],
   "source": [
    "%%time\n",
    "aks_target.wait_for_completion(show_output = True)"
   ]
  },
  {
   "cell_type": "markdown",
   "metadata": {},
   "source": [
    "> Note : Prévoir 10 minutes de temps de traitement"
   ]
  },
  {
   "cell_type": "code",
   "execution_count": 11,
   "metadata": {},
   "outputs": [
    {
     "name": "stdout",
     "output_type": "stream",
     "text": [
      "Statut Azure Kubernetes Service (AKS) :\n",
      "\n",
      "Etat = Succeeded\n",
      "Erreur(s) = None\n"
     ]
    }
   ],
   "source": [
    "print('Statut Azure Kubernetes Service (AKS) :')\n",
    "print()\n",
    "print(\"Etat =\", aks_target.provisioning_state)\n",
    "print(\"Erreur(s) =\", aks_target.provisioning_errors)"
   ]
  },
  {
   "cell_type": "markdown",
   "metadata": {},
   "source": [
    "If you already have a cluster you can attach the service to it:"
   ]
  },
  {
   "cell_type": "markdown",
   "metadata": {},
   "source": [
    "```python \n",
    "%%time\n",
    "resource_id = '/subscriptions/<subscriptionid>/resourcegroups/<resourcegroupname>/providers/Microsoft.ContainerService/managedClusters/<aksservername>'\n",
    "create_name= 'myaks4'\n",
    "attach_config = AksCompute.attach_configuration(resource_id=resource_id)\n",
    "aks_target = ComputeTarget.attach(workspace = ws, \n",
    "                                  name = create_name, \n",
    "                                  attach_configuration=attach_config)\n",
    "## Wait for the operation to complete\n",
    "aks_target.wait_for_provisioning(True)```"
   ]
  },
  {
   "cell_type": "markdown",
   "metadata": {},
   "source": [
    "### Activation App Insights pour la télémétrie"
   ]
  },
  {
   "cell_type": "code",
   "execution_count": 12,
   "metadata": {},
   "outputs": [],
   "source": [
    "aks_deployment_config = AksWebservice.deploy_configuration(enable_app_insights=True)"
   ]
  },
  {
   "cell_type": "markdown",
   "metadata": {},
   "source": [
    "### Déploiement du modèle dans l'instance AKS"
   ]
  },
  {
   "cell_type": "code",
   "execution_count": 14,
   "metadata": {},
   "outputs": [
    {
     "name": "stdout",
     "output_type": "stream",
     "text": [
      "Running.............................................................................................\n",
      "Succeeded\n",
      "AKS service creation operation finished, operation \"Succeeded\"\n",
      "Healthy\n",
      "CPU times: user 669 ms, sys: 124 ms, total: 792 ms\n",
      "Wall time: 8min 23s\n"
     ]
    }
   ],
   "source": [
    "%%time\n",
    "if aks_target.provisioning_state== \"Succeeded\": \n",
    "    aks_service_name ='modele-exemple12-aks'  # Nom unique du modèle déployé\n",
    "    aks_service = Model.deploy(ws,\n",
    "                               aks_service_name, \n",
    "                               [model], \n",
    "                               inference_config, \n",
    "                               aks_deployment_config, \n",
    "                               deployment_target = aks_target)    \n",
    "    aks_service.wait_for_deployment(show_output = True)\n",
    "    print(aks_service.state)\n",
    "else:\n",
    "    raise ValueError(\"AKS provisioning failed. Error: \", aks_service.error)"
   ]
  },
  {
   "cell_type": "markdown",
   "metadata": {},
   "source": [
    "> Prévoir quelques minutes de temps de traitements"
   ]
  },
  {
   "cell_type": "markdown",
   "metadata": {},
   "source": [
    "### Informations du modèle déployé :"
   ]
  },
  {
   "cell_type": "code",
   "execution_count": 15,
   "metadata": {},
   "outputs": [
    {
     "name": "stdout",
     "output_type": "stream",
     "text": [
      "Informations du modèle déployé en AKS :\n",
      " - Endpoint : http://52.137.33.110:80/api/v1/service/modele-exemple12-aks/score\n",
      " - Statut : Healthy\n",
      " - Swagger : http://52.137.33.110:80/api/v1/service/modele-exemple12-aks/swagger.json\n"
     ]
    }
   ],
   "source": [
    "print(\"Informations du modèle déployé en AKS :\")\n",
    "print(\" - Endpoint :\", aks_service.scoring_uri)\n",
    "print(\" - Statut :\", aks_service.state)\n",
    "print(\" - Swagger :\", aks_service.swagger_uri)"
   ]
  },
  {
   "cell_type": "code",
   "execution_count": 16,
   "metadata": {},
   "outputs": [
    {
     "name": "stdout",
     "output_type": "stream",
     "text": [
      "Liste des modèles déployés avec Azure ML :\n",
      "\n",
      "Nom : modele-exemple12-aks\n",
      "Nom : bostonprice\n",
      "Nom : bostonprice-aci\n",
      "Nom : my-aks-service-1\n",
      "Nom : drift-aks-service\n"
     ]
    }
   ],
   "source": [
    "print(\"Liste des modèles déployés avec Azure ML :\")\n",
    "print()\n",
    "for webservice_name in ws.webservices:\n",
    "    print('Nom :', webservice_name)"
   ]
  },
  {
   "cell_type": "code",
   "execution_count": 17,
   "metadata": {},
   "outputs": [
    {
     "name": "stdout",
     "output_type": "stream",
     "text": [
      "Logs AKS :\n",
      "\n",
      "2020-06-01T09:03:23,932697667+00:00 - iot-server/run \n",
      "2020-06-01T09:03:23,933992261+00:00 - gunicorn/run \n",
      "2020-06-01T09:03:23,933863251+00:00 - rsyslog/run \n",
      "2020-06-01T09:03:23,939797782+00:00 - nginx/run \n",
      "/usr/sbin/nginx: /azureml-envs/azureml_e8bddb57bafdbc5372e653be9959eaa5/lib/libcrypto.so.1.0.0: no version information available (required by /usr/sbin/nginx)\n",
      "/usr/sbin/nginx: /azureml-envs/azureml_e8bddb57bafdbc5372e653be9959eaa5/lib/libcrypto.so.1.0.0: no version information available (required by /usr/sbin/nginx)\n",
      "/usr/sbin/nginx: /azureml-envs/azureml_e8bddb57bafdbc5372e653be9959eaa5/lib/libssl.so.1.0.0: no version information available (required by /usr/sbin/nginx)\n",
      "/usr/sbin/nginx: /azureml-envs/azureml_e8bddb57bafdbc5372e653be9959eaa5/lib/libssl.so.1.0.0: no version information available (required by /usr/sbin/nginx)\n",
      "/usr/sbin/nginx: /azureml-envs/azureml_e8bddb57bafdbc5372e653be9959eaa5/lib/libssl.so.1.0.0: no version information available (required by /usr/sbin/nginx)\n",
      "EdgeHubConnectionString and IOTEDGE_IOTHUBHOSTNAME are not set. Exiting...\n",
      "2020-06-01T09:03:24,024203505+00:00 - iot-server/finish 1 0\n",
      "2020-06-01T09:03:24,026670684+00:00 - Exit code 1 is normal. Not restarting iot-server.\n",
      "Starting gunicorn 19.9.0\n",
      "Listening at: http://127.0.0.1:31311 (13)\n",
      "Using worker: sync\n",
      "worker timeout is set to 300\n",
      "Booting worker with pid: 42\n",
      "Initialized PySpark session.\n",
      "Initializing logger\n",
      "Starting up app insights client\n",
      "Starting up request id generator\n",
      "Starting up app insight hooks\n",
      "Invoking user's init function\n",
      "/azureml-envs/azureml_e8bddb57bafdbc5372e653be9959eaa5/lib/python3.6/site-packages/sklearn/externals/joblib/externals/cloudpickle/cloudpickle.py:47: DeprecationWarning: the imp module is deprecated in favour of importlib; see the module's documentation for alternative uses\n",
      "  import imp\n",
      "/azureml-envs/azureml_e8bddb57bafdbc5372e653be9959eaa5/lib/python3.6/site-packages/sklearn/base.py:251: UserWarning: Trying to unpickle estimator Ridge from version 0.19.1 when using version 0.20.0. This might lead to breaking code or invalid results. Use at your own risk.\n",
      "  UserWarning)\n",
      "model initialized09:03:24\n",
      "Users's init has completed successfully\n",
      "Scoring timeout setting is not found. Use default timeout: 3600000 ms\n",
      "Swagger file not present\n",
      "404\n",
      "127.0.0.1 - - [01/Jun/2020:09:03:27 +0000] \"GET /swagger.json HTTP/1.0\" 404 19 \"-\" \"-\"\n",
      "Swagger file not present\n",
      "404\n",
      "127.0.0.1 - - [01/Jun/2020:09:03:28 +0000] \"GET /swagger.json HTTP/1.0\" 404 19 \"-\" \"curl/7.67.0\"\n",
      "Swagger file not present\n",
      "404\n",
      "127.0.0.1 - - [01/Jun/2020:09:03:33 +0000] \"GET /swagger.json HTTP/1.0\" 404 19 \"-\" \"-\"\n",
      "Swagger file not present\n",
      "404\n",
      "127.0.0.1 - - [01/Jun/2020:09:03:33 +0000] \"GET /swagger.json HTTP/1.0\" 404 19 \"-\" \"curl/7.67.0\"\n",
      "\n"
     ]
    }
   ],
   "source": [
    "print(\"Logs AKS :\")\n",
    "print()\n",
    "print(aks_service.get_logs())"
   ]
  },
  {
   "cell_type": "markdown",
   "metadata": {},
   "source": [
    "## 8. Réalisation de plusieurs tests d'appel au modèle de ML exposé dans AKS"
   ]
  },
  {
   "cell_type": "code",
   "execution_count": 18,
   "metadata": {},
   "outputs": [
    {
     "name": "stdout",
     "output_type": "stream",
     "text": [
      "Scoring endpoint AKS : http://52.137.33.110:80/api/v1/service/modele-exemple12-aks/score\n"
     ]
    }
   ],
   "source": [
    "print(\"Scoring endpoint AKS :\", aks_service.scoring_uri)"
   ]
  },
  {
   "cell_type": "markdown",
   "metadata": {},
   "source": [
    "> Remarque : Les clefs sont visibles dans la section Endpoint Azure ML Studio."
   ]
  },
  {
   "cell_type": "markdown",
   "metadata": {},
   "source": [
    "### Test 1"
   ]
  },
  {
   "cell_type": "code",
   "execution_count": 20,
   "metadata": {},
   "outputs": [
    {
     "name": "stdout",
     "output_type": "stream",
     "text": [
      ">> Prédictions du modèle via AKS : [9276.53327694989, 14169.060737772432]\n",
      "\n",
      "CPU times: user 1.86 ms, sys: 4.38 ms, total: 6.24 ms\n",
      "Wall time: 10.9 ms\n"
     ]
    }
   ],
   "source": [
    "%%time\n",
    "test_sample1 = json.dumps({'data': [\n",
    "    [1,18,13,45,54,6,57,8,8,50], \n",
    "    [10,9,8,37,6,15,4,5,2,43]\n",
    "]})\n",
    "test_sample1 = bytes(test_sample1,encoding='utf8')\n",
    "\n",
    "if aks_service.state == \"Healthy\":\n",
    "    prediction1 = aks_service.run(input_data=test_sample1)\n",
    "    print(\">> Prédictions du modèle via AKS :\", prediction1)\n",
    "    print()\n",
    "else:\n",
    "    raise ValueError(\"Service deployment isn't healthy, can't call the service. Error: \", aks_service.error)"
   ]
  },
  {
   "cell_type": "markdown",
   "metadata": {},
   "source": [
    "### Test 2"
   ]
  },
  {
   "cell_type": "code",
   "execution_count": 21,
   "metadata": {},
   "outputs": [
    {
     "name": "stdout",
     "output_type": "stream",
     "text": [
      ">> Prédictions du modèle via AKS : [7909.812215422598, 11478.00168731773]\n",
      "\n",
      "CPU times: user 3.57 ms, sys: 522 µs, total: 4.1 ms\n",
      "Wall time: 9.76 ms\n"
     ]
    }
   ],
   "source": [
    "%%time\n",
    "test_sample2 = json.dumps({'data': [\n",
    "    [2,28,13,45,54,6,57,8,8,50], \n",
    "    [10,9,8,37,6,45,4,3,2,43]\n",
    "]})\n",
    "test_sample2 = bytes(test_sample2,encoding='utf8')\n",
    "\n",
    "if aks_service.state == \"Healthy\":\n",
    "    prediction2 = aks_service.run(input_data=test_sample2)\n",
    "    print(\">> Prédictions du modèle via AKS :\", prediction2)\n",
    "    print()\n",
    "else:\n",
    "    raise ValueError(\"Service deployment isn't healthy, can't call the service. Error: \", aks_service.error)"
   ]
  },
  {
   "cell_type": "markdown",
   "metadata": {},
   "source": [
    "### Test 3"
   ]
  },
  {
   "cell_type": "code",
   "execution_count": 22,
   "metadata": {},
   "outputs": [
    {
     "name": "stdout",
     "output_type": "stream",
     "text": [
      ">> Prédictions du modèle via AKS : [1107.1856643704439, 31507.05936899806]\n",
      "\n",
      "CPU times: user 1.7 ms, sys: 3.05 ms, total: 4.75 ms\n",
      "Wall time: 9.66 ms\n"
     ]
    }
   ],
   "source": [
    "%%time\n",
    "test_sample3 = json.dumps({'data': [\n",
    "    [24,48,3,45,54,6,57,8,8,50], \n",
    "    [13,5,55,37,6,45,4,3,2,43]\n",
    "]})\n",
    "test_sample3 = bytes(test_sample3,encoding='utf8')\n",
    "\n",
    "if aks_service.state == \"Healthy\":\n",
    "    prediction3 = aks_service.run(input_data=test_sample3)\n",
    "    print(\">> Prédictions du modèle via AKS :\", prediction3)\n",
    "    print()\n",
    "else:\n",
    "    raise ValueError(\"Service deployment isn't healthy, can't call the service. Error: \", aks_service.error)"
   ]
  },
  {
   "cell_type": "markdown",
   "metadata": {},
   "source": [
    "## 9. Accés aux données de télémétries AppInsights\n",
    "Aller dans le portail Azure pour visualiser les informations de télémétries disponibles depuis AKS"
   ]
  },
  {
   "cell_type": "markdown",
   "metadata": {},
   "source": [
    "<img src=\"https://github.com/retkowsky/images/blob/master/aksresults.jpg?raw=true\">"
   ]
  },
  {
   "cell_type": "markdown",
   "metadata": {},
   "source": [
    "## 10. Suppression"
   ]
  },
  {
   "cell_type": "code",
   "execution_count": 23,
   "metadata": {},
   "outputs": [],
   "source": [
    "#aks_service.delete()\n",
    "#aci_service.delete()\n",
    "#model.delete()\n",
    "#endpoint.delete()"
   ]
  },
  {
   "cell_type": "markdown",
   "metadata": {},
   "source": [
    "<img src=\"https://github.com/retkowsky/images/blob/master/Powered-by-MS-Azure-logo-v2.png?raw=true\" height=\"300\" width=\"300\">"
   ]
  }
 ],
 "metadata": {
  "authors": [
   {
    "name": "shipatel"
   }
  ],
  "kernelspec": {
   "display_name": "Python 3.6 - AzureML",
   "language": "python",
   "name": "python3-azureml"
  },
  "language_info": {
   "codemirror_mode": {
    "name": "ipython",
    "version": 3
   },
   "file_extension": ".py",
   "mimetype": "text/x-python",
   "name": "python",
   "nbconvert_exporter": "python",
   "pygments_lexer": "ipython3",
   "version": "3.6.9"
  }
 },
 "nbformat": 4,
 "nbformat_minor": 2
}
